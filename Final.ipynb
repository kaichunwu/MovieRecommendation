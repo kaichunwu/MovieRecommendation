{
 "cells": [
  {
   "cell_type": "markdown",
   "metadata": {},
   "source": [
    "# Recommandation System"
   ]
  },
  {
   "cell_type": "code",
   "execution_count": 15,
   "metadata": {},
   "outputs": [
    {
     "data": {
      "text/html": [
       "<div>\n",
       "<style scoped>\n",
       "    .dataframe tbody tr th:only-of-type {\n",
       "        vertical-align: middle;\n",
       "    }\n",
       "\n",
       "    .dataframe tbody tr th {\n",
       "        vertical-align: top;\n",
       "    }\n",
       "\n",
       "    .dataframe thead th {\n",
       "        text-align: right;\n",
       "    }\n",
       "</style>\n",
       "<table border=\"1\" class=\"dataframe\">\n",
       "  <thead>\n",
       "    <tr style=\"text-align: right;\">\n",
       "      <th></th>\n",
       "      <th>data</th>\n",
       "    </tr>\n",
       "  </thead>\n",
       "  <tbody>\n",
       "    <tr>\n",
       "      <th>Existing Accuracy</th>\n",
       "      <td>70%</td>\n",
       "    </tr>\n",
       "    <tr>\n",
       "      <th>External Code Lines</th>\n",
       "      <td>200</td>\n",
       "    </tr>\n",
       "    <tr>\n",
       "      <th>Our Accuracy</th>\n",
       "      <td>72%</td>\n",
       "    </tr>\n",
       "    <tr>\n",
       "      <th>Own Code Lines</th>\n",
       "      <td>350</td>\n",
       "    </tr>\n",
       "    <tr>\n",
       "      <th>Time to Run</th>\n",
       "      <td>60min</td>\n",
       "    </tr>\n",
       "  </tbody>\n",
       "</table>\n",
       "</div>"
      ],
      "text/plain": [
       "                      data\n",
       "Existing Accuracy      70%\n",
       "External Code Lines    200\n",
       "Our Accuracy           72%\n",
       "Own Code Lines         350\n",
       "Time to Run          60min"
      ]
     },
     "execution_count": 15,
     "metadata": {},
     "output_type": "execute_result"
    }
   ],
   "source": [
    "import pandas as pd\n",
    "overall = {'data':{'Own Code Lines':350,\n",
    "            'External Code Lines':200,\n",
    "            'Existing Accuracy':'70%',\n",
    "            'Our Accuracy':'72%',\n",
    "            'Time to Run':'60min'}}\n",
    "pd.DataFrame(overall)"
   ]
  },
  {
   "cell_type": "markdown",
   "metadata": {},
   "source": [
    "## Objective\n",
    "* Design and implement the Movie Recommendation System based on MovieLens Datasets, and evaluate the accuracy and efficiency of our recommendation model\n",
    "* Analyze the dataset of movie comments by using NLP methods, and exact useful comment keywords for a specific movie\n",
    "* According to the NLP result, we will generate the subjective tags for every movie, like \"good\", \"boring\", \"suck\" and so on, which will help clients to find their interests"
   ]
  },
  {
   "cell_type": "markdown",
   "metadata": {},
   "source": [
    "## Part 1 NLP for Movie comments"
   ]
  },
  {
   "cell_type": "markdown",
   "metadata": {},
   "source": [
    "### 1. Load Data"
   ]
  },
  {
   "cell_type": "code",
   "execution_count": 14,
   "metadata": {
    "scrolled": true
   },
   "outputs": [
    {
     "data": {
      "text/html": [
       "<div>\n",
       "<style scoped>\n",
       "    .dataframe tbody tr th:only-of-type {\n",
       "        vertical-align: middle;\n",
       "    }\n",
       "\n",
       "    .dataframe tbody tr th {\n",
       "        vertical-align: top;\n",
       "    }\n",
       "\n",
       "    .dataframe thead th {\n",
       "        text-align: right;\n",
       "    }\n",
       "</style>\n",
       "<table border=\"1\" class=\"dataframe\">\n",
       "  <thead>\n",
       "    <tr style=\"text-align: right;\">\n",
       "      <th></th>\n",
       "      <th>num</th>\n",
       "      <th>title</th>\n",
       "      <th>rating(10)</th>\n",
       "      <th>review</th>\n",
       "    </tr>\n",
       "  </thead>\n",
       "  <tbody>\n",
       "    <tr>\n",
       "      <th>0</th>\n",
       "      <td>1</td>\n",
       "      <td>Avengers: Infinity War (2018)</td>\n",
       "      <td>10</td>\n",
       "      <td>This movie is the beginning of the culmination...</td>\n",
       "    </tr>\n",
       "    <tr>\n",
       "      <th>1</th>\n",
       "      <td>2</td>\n",
       "      <td>Avengers: Infinity War (2018)</td>\n",
       "      <td>10</td>\n",
       "      <td>This movie will blow your mind and break your ...</td>\n",
       "    </tr>\n",
       "    <tr>\n",
       "      <th>2</th>\n",
       "      <td>3</td>\n",
       "      <td>Avengers: Infinity War (2018)</td>\n",
       "      <td>10</td>\n",
       "      <td>A Summer Film That IS Even Better Than The Hype</td>\n",
       "    </tr>\n",
       "    <tr>\n",
       "      <th>3</th>\n",
       "      <td>4</td>\n",
       "      <td>Avengers: Infinity War (2018)</td>\n",
       "      <td>9</td>\n",
       "      <td>I was amazed to see so many negative reviews; ...</td>\n",
       "    </tr>\n",
       "    <tr>\n",
       "      <th>4</th>\n",
       "      <td>5</td>\n",
       "      <td>Avengers: Infinity War (2018)</td>\n",
       "      <td>10</td>\n",
       "      <td>All the reviews that say this movie has no plo...</td>\n",
       "    </tr>\n",
       "    <tr>\n",
       "      <th>5</th>\n",
       "      <td>6</td>\n",
       "      <td>Avengers: Infinity War (2018)</td>\n",
       "      <td>10</td>\n",
       "      <td>Epic conclusion to Marvel's first 10 years</td>\n",
       "    </tr>\n",
       "    <tr>\n",
       "      <th>6</th>\n",
       "      <td>7</td>\n",
       "      <td>Avengers: Infinity War (2018)</td>\n",
       "      <td>9</td>\n",
       "      <td>I went and looked, and I want to express my th...</td>\n",
       "    </tr>\n",
       "    <tr>\n",
       "      <th>7</th>\n",
       "      <td>8</td>\n",
       "      <td>Avengers: Infinity War (2018)</td>\n",
       "      <td>10</td>\n",
       "      <td>Engrossing, Epic, Emotional. Those are the thr...</td>\n",
       "    </tr>\n",
       "    <tr>\n",
       "      <th>8</th>\n",
       "      <td>9</td>\n",
       "      <td>Avengers: Infinity War (2018)</td>\n",
       "      <td>9</td>\n",
       "      <td>Well, Well, Well....\\n\\nI was so ready to tear...</td>\n",
       "    </tr>\n",
       "    <tr>\n",
       "      <th>9</th>\n",
       "      <td>10</td>\n",
       "      <td>Avengers: Infinity War (2018)</td>\n",
       "      <td>10</td>\n",
       "      <td>Everything we could've hoped for</td>\n",
       "    </tr>\n",
       "    <tr>\n",
       "      <th>10</th>\n",
       "      <td>11</td>\n",
       "      <td>Avengers: Infinity War (2018)</td>\n",
       "      <td>6</td>\n",
       "      <td>Overrated and bloated</td>\n",
       "    </tr>\n",
       "    <tr>\n",
       "      <th>11</th>\n",
       "      <td>12</td>\n",
       "      <td>Avengers: Infinity War (2018)</td>\n",
       "      <td>9</td>\n",
       "      <td>This movie has made me feel things that I have...</td>\n",
       "    </tr>\n",
       "    <tr>\n",
       "      <th>12</th>\n",
       "      <td>13</td>\n",
       "      <td>Avengers: Infinity War (2018)</td>\n",
       "      <td>7</td>\n",
       "      <td>An objective review of Avengers: Infinity War</td>\n",
       "    </tr>\n",
       "    <tr>\n",
       "      <th>13</th>\n",
       "      <td>14</td>\n",
       "      <td>Avengers: Infinity War (2018)</td>\n",
       "      <td>9</td>\n",
       "      <td>Let me be clear Infinity War is not flawless,...</td>\n",
       "    </tr>\n",
       "    <tr>\n",
       "      <th>14</th>\n",
       "      <td>15</td>\n",
       "      <td>Avengers: Infinity War (2018)</td>\n",
       "      <td>10</td>\n",
       "      <td>Just WOW , The Russo nailed it, hand down from...</td>\n",
       "    </tr>\n",
       "    <tr>\n",
       "      <th>15</th>\n",
       "      <td>16</td>\n",
       "      <td>Avengers: Infinity War (2018)</td>\n",
       "      <td>9</td>\n",
       "      <td>The most anticipated movie of 2018 has now bee...</td>\n",
       "    </tr>\n",
       "    <tr>\n",
       "      <th>16</th>\n",
       "      <td>17</td>\n",
       "      <td>Avengers: Infinity War (2018)</td>\n",
       "      <td>8</td>\n",
       "      <td>Do not believe the ratings, this movie is not ...</td>\n",
       "    </tr>\n",
       "    <tr>\n",
       "      <th>17</th>\n",
       "      <td>18</td>\n",
       "      <td>Avengers: Infinity War (2018)</td>\n",
       "      <td>10</td>\n",
       "      <td>There is literally no way to dislike this movi...</td>\n",
       "    </tr>\n",
       "    <tr>\n",
       "      <th>18</th>\n",
       "      <td>19</td>\n",
       "      <td>Avengers: Infinity War (2018)</td>\n",
       "      <td>9</td>\n",
       "      <td>Avengers: Infinity War is the seventh film in ...</td>\n",
       "    </tr>\n",
       "    <tr>\n",
       "      <th>19</th>\n",
       "      <td>20</td>\n",
       "      <td>Avengers: Infinity War (2018)</td>\n",
       "      <td>10</td>\n",
       "      <td>This movie Is over hyped. The title of this mo...</td>\n",
       "    </tr>\n",
       "    <tr>\n",
       "      <th>20</th>\n",
       "      <td>21</td>\n",
       "      <td>Avengers: Infinity War (2018)</td>\n",
       "      <td>3</td>\n",
       "      <td>I'm hoping they can pull it back on the right ...</td>\n",
       "    </tr>\n",
       "    <tr>\n",
       "      <th>21</th>\n",
       "      <td>22</td>\n",
       "      <td>Avengers: Infinity War (2018)</td>\n",
       "      <td>1</td>\n",
       "      <td>Avengers Infinity War was way too long. Endles...</td>\n",
       "    </tr>\n",
       "    <tr>\n",
       "      <th>22</th>\n",
       "      <td>23</td>\n",
       "      <td>Avengers: Infinity War (2018)</td>\n",
       "      <td>2</td>\n",
       "      <td>Below average movie</td>\n",
       "    </tr>\n",
       "    <tr>\n",
       "      <th>23</th>\n",
       "      <td>24</td>\n",
       "      <td>Avengers: Infinity War (2018)</td>\n",
       "      <td>2</td>\n",
       "      <td>I am not a comics specialist and unlike most o...</td>\n",
       "    </tr>\n",
       "    <tr>\n",
       "      <th>24</th>\n",
       "      <td>25</td>\n",
       "      <td>Avengers: Infinity War (2018)</td>\n",
       "      <td>5</td>\n",
       "      <td>Infinity War is the same predictable mediocre ...</td>\n",
       "    </tr>\n",
       "  </tbody>\n",
       "</table>\n",
       "</div>"
      ],
      "text/plain": [
       "    num                          title  rating(10)  \\\n",
       "0     1  Avengers: Infinity War (2018)          10   \n",
       "1     2  Avengers: Infinity War (2018)          10   \n",
       "2     3  Avengers: Infinity War (2018)          10   \n",
       "3     4  Avengers: Infinity War (2018)           9   \n",
       "4     5  Avengers: Infinity War (2018)          10   \n",
       "5     6  Avengers: Infinity War (2018)          10   \n",
       "6     7  Avengers: Infinity War (2018)           9   \n",
       "7     8  Avengers: Infinity War (2018)          10   \n",
       "8     9  Avengers: Infinity War (2018)           9   \n",
       "9    10  Avengers: Infinity War (2018)          10   \n",
       "10   11  Avengers: Infinity War (2018)           6   \n",
       "11   12  Avengers: Infinity War (2018)           9   \n",
       "12   13  Avengers: Infinity War (2018)           7   \n",
       "13   14  Avengers: Infinity War (2018)           9   \n",
       "14   15  Avengers: Infinity War (2018)          10   \n",
       "15   16  Avengers: Infinity War (2018)           9   \n",
       "16   17  Avengers: Infinity War (2018)           8   \n",
       "17   18  Avengers: Infinity War (2018)          10   \n",
       "18   19  Avengers: Infinity War (2018)           9   \n",
       "19   20  Avengers: Infinity War (2018)          10   \n",
       "20   21  Avengers: Infinity War (2018)           3   \n",
       "21   22  Avengers: Infinity War (2018)           1   \n",
       "22   23  Avengers: Infinity War (2018)           2   \n",
       "23   24  Avengers: Infinity War (2018)           2   \n",
       "24   25  Avengers: Infinity War (2018)           5   \n",
       "\n",
       "                                               review  \n",
       "0   This movie is the beginning of the culmination...  \n",
       "1   This movie will blow your mind and break your ...  \n",
       "2     A Summer Film That IS Even Better Than The Hype  \n",
       "3   I was amazed to see so many negative reviews; ...  \n",
       "4   All the reviews that say this movie has no plo...  \n",
       "5          Epic conclusion to Marvel's first 10 years  \n",
       "6   I went and looked, and I want to express my th...  \n",
       "7   Engrossing, Epic, Emotional. Those are the thr...  \n",
       "8   Well, Well, Well....\\n\\nI was so ready to tear...  \n",
       "9                    Everything we could've hoped for  \n",
       "10                              Overrated and bloated  \n",
       "11  This movie has made me feel things that I have...  \n",
       "12      An objective review of Avengers: Infinity War  \n",
       "13   Let me be clear Infinity War is not flawless,...  \n",
       "14  Just WOW , The Russo nailed it, hand down from...  \n",
       "15  The most anticipated movie of 2018 has now bee...  \n",
       "16  Do not believe the ratings, this movie is not ...  \n",
       "17  There is literally no way to dislike this movi...  \n",
       "18  Avengers: Infinity War is the seventh film in ...  \n",
       "19  This movie Is over hyped. The title of this mo...  \n",
       "20  I'm hoping they can pull it back on the right ...  \n",
       "21  Avengers Infinity War was way too long. Endles...  \n",
       "22                                Below average movie  \n",
       "23  I am not a comics specialist and unlike most o...  \n",
       "24  Infinity War is the same predictable mediocre ...  "
      ]
     },
     "execution_count": 14,
     "metadata": {},
     "output_type": "execute_result"
    }
   ],
   "source": [
    "import pandas as pd\n",
    "import numpy as np\n",
    "df=pd.read_csv('./movie_review/movie_review_2.csv') \n",
    "df"
   ]
  },
  {
   "cell_type": "code",
   "execution_count": 7,
   "metadata": {},
   "outputs": [
    {
     "name": "stderr",
     "output_type": "stream",
     "text": [
      "/Users/leonardyuan/anaconda3/lib/python3.6/site-packages/ipykernel_launcher.py:1: DeprecationWarning: \n",
      ".ix is deprecated. Please use\n",
      ".loc for label based indexing or\n",
      ".iloc for positional indexing\n",
      "\n",
      "See the documentation here:\n",
      "http://pandas.pydata.org/pandas-docs/stable/indexing.html#ix-indexer-is-deprecated\n",
      "  \"\"\"Entry point for launching an IPython kernel.\n"
     ]
    },
    {
     "data": {
      "text/plain": [
       "'This movie is the beginning of the culmination of Marvel\\'s masterfully woven cinematic universe. Beginning back in 2008 with iron man, we are finally seeing the results of all the movies have been pointing to; and it did not disappoint. Thanos is a complex villain, with deeper and more interesting desires than just \"world domination.\" The dilemmas all the characters face in this movie (both the heroes and the villains) are truly thought provoking and leave you on the edge of your seat. No other set of movies has beeen so involved, so expanded, and encompassed so many story lines/characters and previous movies. The sheer amount of star power alone in this film is insane; and they do a masterful job of weaving all these unique and various characters into a common storyline.'"
      ]
     },
     "execution_count": 7,
     "metadata": {},
     "output_type": "execute_result"
    }
   ],
   "source": [
    "review = df.ix[0].review\n",
    "review"
   ]
  },
  {
   "cell_type": "markdown",
   "metadata": {},
   "source": [
    "### 2. Split Data"
   ]
  },
  {
   "cell_type": "code",
   "execution_count": 11,
   "metadata": {
    "scrolled": true
   },
   "outputs": [
    {
     "data": {
      "image/png": "[encoded data removed]",
      "text/plain": [
       "<Figure size 432x288 with 1 Axes>"
      ]
     },
     "metadata": {
      "needs_background": "light"
     },
     "output_type": "display_data"
    }
   ],
   "source": [
    "import nltk\n",
    "tokens = review.split()\n",
    "freq = nltk.FreqDist(tokens)\n",
    "freq.plot(20, cumulative=False)"
   ]
  },
  {
   "cell_type": "markdown",
   "metadata": {},
   "source": [
    "We can eliminate the stopwords:"
   ]
  },
  {
   "cell_type": "code",
   "execution_count": 13,
   "metadata": {},
   "outputs": [
    {
     "data": {
      "image/png": "[encoded data removed]",
      "text/plain": [
       "<Figure size 432x288 with 1 Axes>"
      ]
     },
     "metadata": {
      "needs_background": "light"
     },
     "output_type": "display_data"
    }
   ],
   "source": [
    "from nltk.corpus import stopwords\n",
    "tokens = [t for t in review.split()]\n",
    "clean_tokens = tokens[:]\n",
    " \n",
    "sr = stopwords.words('english')\n",
    " \n",
    "for token in tokens:\n",
    " \n",
    "    if token in stopwords.words('english'):\n",
    " \n",
    "        clean_tokens.remove(token)\n",
    "\n",
    "freq = nltk.FreqDist(clean_tokens)\n",
    "freq.plot(20, cumulative=False)"
   ]
  },
  {
   "cell_type": "markdown",
   "metadata": {},
   "source": [
    "### 3. Start NLP Processing"
   ]
  },
  {
   "cell_type": "code",
   "execution_count": 16,
   "metadata": {},
   "outputs": [
    {
     "name": "stderr",
     "output_type": "stream",
     "text": [
      "/Users/leonardyuan/anaconda3/lib/python3.6/site-packages/ipykernel_launcher.py:3: DeprecationWarning: \n",
      ".ix is deprecated. Please use\n",
      ".loc for label based indexing or\n",
      ".iloc for positional indexing\n",
      "\n",
      "See the documentation here:\n",
      "http://pandas.pydata.org/pandas-docs/stable/indexing.html#ix-indexer-is-deprecated\n",
      "  This is separate from the ipykernel package so we can avoid doing imports until\n"
     ]
    },
    {
     "name": "stdout",
     "output_type": "stream",
     "text": [
      "Get the review======>\n",
      "Start to make NLP operation\n",
      "Get the review======>\n",
      "Start to make NLP operation\n",
      "Get the review======>\n",
      "Start to make NLP operation\n",
      "Get the review======>\n",
      "Start to make NLP operation\n",
      "Get the review======>\n",
      "Start to make NLP operation\n",
      "Get the review======>\n",
      "Start to make NLP operation\n",
      "Get the review======>\n",
      "Start to make NLP operation\n",
      "Get the review======>\n",
      "Start to make NLP operation\n",
      "Get the review======>\n",
      "Start to make NLP operation\n",
      "Get the review======>\n",
      "Start to make NLP operation\n",
      "Get the review======>\n",
      "Start to make NLP operation\n",
      "Get the review======>\n",
      "Start to make NLP operation\n",
      "Get the review======>\n",
      "Start to make NLP operation\n",
      "Get the review======>\n",
      "Start to make NLP operation\n",
      "Get the review======>\n",
      "Start to make NLP operation\n",
      "Get the review======>\n",
      "Start to make NLP operation\n",
      "Get the review======>\n",
      "Start to make NLP operation\n",
      "Get the review======>\n",
      "Start to make NLP operation\n",
      "Get the review======>\n",
      "Start to make NLP operation\n",
      "Get the review======>\n",
      "Start to make NLP operation\n",
      "Get the review======>\n",
      "Start to make NLP operation\n",
      "Get the review======>\n",
      "Start to make NLP operation\n",
      "Get the review======>\n",
      "Start to make NLP operation\n",
      "Get the review======>\n",
      "Start to make NLP operation\n",
      "Get the review======>\n",
      "Start to make NLP operation\n"
     ]
    },
    {
     "data": {
      "image/png": "[encoded data removed]",
      "text/plain": [
       "<Figure size 432x288 with 1 Axes>"
      ]
     },
     "metadata": {
      "needs_background": "light"
     },
     "output_type": "display_data"
    }
   ],
   "source": [
    "result = []\n",
    "for i in range(25):\n",
    "    review = df.ix[i].review\n",
    "    print(\"Get the review======>\")\n",
    "    tokens = [t for t in review.split()]\n",
    "    clean_tokens = tokens[:]\n",
    "    print('Start to make NLP operation')\n",
    "    sr = stopwords.words('english')\n",
    "    for token in tokens:\n",
    "        if token not in stopwords.words('english'):\n",
    "            result.append(token)\n",
    "\n",
    "freq = nltk.FreqDist(result)\n",
    "freq.plot(30, cumulative=False)"
   ]
  },
  {
   "cell_type": "code",
   "execution_count": 43,
   "metadata": {},
   "outputs": [
    {
     "name": "stderr",
     "output_type": "stream",
     "text": [
      "/Users/leonardyuan/anaconda3/lib/python3.6/site-packages/ipykernel_launcher.py:6: DeprecationWarning: \n",
      ".ix is deprecated. Please use\n",
      ".loc for label based indexing or\n",
      ".iloc for positional indexing\n",
      "\n",
      "See the documentation here:\n",
      "http://pandas.pydata.org/pandas-docs/stable/indexing.html#ix-indexer-is-deprecated\n",
      "  \n"
     ]
    },
    {
     "name": "stdout",
     "output_type": "stream",
     "text": [
      "Get the review======>\n",
      "Get the review======>\n",
      "Get the review======>\n",
      "Get the review======>\n",
      "Get the review======>\n",
      "Get the review======>\n",
      "Get the review======>\n",
      "Get the review======>\n",
      "Get the review======>\n",
      "Get the review======>\n",
      "Get the review======>\n",
      "Get the review======>\n",
      "Get the review======>\n",
      "Get the review======>\n",
      "Get the review======>\n",
      "Get the review======>\n",
      "Get the review======>\n",
      "Get the review======>\n",
      "Get the review======>\n",
      "Get the review======>\n",
      "Get the review======>\n",
      "Get the review======>\n",
      "Get the review======>\n",
      "Get the review======>\n",
      "Get the review======>\n"
     ]
    },
    {
     "data": {
      "image/png": "[encoded data removed]",
      "text/plain": [
       "<Figure size 432x288 with 1 Axes>"
      ]
     },
     "metadata": {
      "needs_background": "light"
     },
     "output_type": "display_data"
    }
   ],
   "source": [
    "from nltk.corpus import wordnet as wn\n",
    "from nltk.tag import pos_tag_sents\n",
    "result = []\n",
    "\n",
    "for i in range(25):\n",
    "    review = df.ix[i].review\n",
    "    print(\"Get the review======>\")\n",
    "    tokens = nltk.word_tokenize(review)\n",
    "    tags = nltk.pos_tag(tokens)\n",
    "    for item in tags:\n",
    "        if(item[1] == \"JJ\"):\n",
    "            result.append(item[0])\n",
    "            \n",
    "freq = nltk.FreqDist(result)\n",
    "freq.plot(40, cumulative=False)"
   ]
  },
  {
   "cell_type": "markdown",
   "metadata": {},
   "source": [
    "## Part 2 Collaborative Filtering\n",
    "### 1. Introduction of Collaborative filtering"
   ]
  },
  {
   "cell_type": "markdown",
   "metadata": {},
   "source": [
    "**Collaborative filtering** is a method of making automatic predictions (filtering) about the interests of a user by collecting preferences or taste information from many users (collaborating). \n",
    "\n",
    "Here is the example of CF algorithm."
   ]
  },
  {
   "cell_type": "markdown",
   "metadata": {},
   "source": [
    "![](images/CF.png)"
   ]
  },
  {
   "cell_type": "markdown",
   "metadata": {},
   "source": [
    "#### What we should do to use Collaborative Filtering Algorithm?\n",
    "- We should make data cleansing\n",
    "- We should converse the datas\n",
    "- We should generate the basic matrix for counting the interactions between users and items\n",
    "- We should calculate the similarity of users or items, then generate similaritry matrix\n",
    "- According to the similarity of matrix, we can generate the final recommendation lists"
   ]
  },
  {
   "cell_type": "markdown",
   "metadata": {},
   "source": [
    "### 2. User-CF Algorithm"
   ]
  },
  {
   "cell_type": "markdown",
   "metadata": {},
   "source": [
    "One of the most important algorithms in recommendation field,  UB-CF uses that logic and recommends items by finding similar users to the active user (to whom we are trying to recommend a movie). A specific application of this is the user-based **Nearest Neighbor algorithm**. This algorithm needs two tasks:\n",
    "\n",
    "- Find the K-nearest neighbors (KNN) to the user a, using a similarity function w to measure the distance between each pair of users\n",
    "- Predict the rating that user a will give to all items the k neighbors have consumed but a has not."
   ]
  },
  {
   "cell_type": "markdown",
   "metadata": {},
   "source": [
    "We design and implement our model according to this book:\n",
    "    \n",
    "![](images/Cover.png)"
   ]
  },
  {
   "cell_type": "markdown",
   "metadata": {},
   "source": [
    "In our model, we should generate the reversed lists at the beginning, like:\n",
    "    \n",
    "![](images/matrics.png)"
   ]
  },
  {
   "cell_type": "markdown",
   "metadata": {},
   "source": [
    "Then we start to calculate the similarity of the users, this is the one of the most important steps in our porcess,\n",
    "typically we can discribe our calcaulating process like:\n",
    "\n",
    "![](images/usercf.png)"
   ]
  },
  {
   "cell_type": "markdown",
   "metadata": {},
   "source": [
    "But sometimes we should concern some special datas, like this user is extremely active, thus it is likey that he cannot show apparent interests in this models, thus we should design special **punishing factor** to eliminate this phenomenon, this is called **Long tail Theory**, so we can get the modified algorithm like:\n",
    "\n",
    "![](images/user-iif.png)"
   ]
  },
  {
   "cell_type": "markdown",
   "metadata": {},
   "source": [
    "Thus, we can design our model according this equation:\n",
    "\n",
    "![](images/alg.png)"
   ]
  },
  {
   "cell_type": "markdown",
   "metadata": {},
   "source": [
    "### 3. How to make data cleansing and intergration"
   ]
  },
  {
   "cell_type": "code",
   "execution_count": 98,
   "metadata": {},
   "outputs": [
    {
     "data": {
      "text/html": [
       "<div>\n",
       "<style scoped>\n",
       "    .dataframe tbody tr th:only-of-type {\n",
       "        vertical-align: middle;\n",
       "    }\n",
       "\n",
       "    .dataframe tbody tr th {\n",
       "        vertical-align: top;\n",
       "    }\n",
       "\n",
       "    .dataframe thead th {\n",
       "        text-align: right;\n",
       "    }\n",
       "</style>\n",
       "<table border=\"1\" class=\"dataframe\">\n",
       "  <thead>\n",
       "    <tr style=\"text-align: right;\">\n",
       "      <th></th>\n",
       "      <th>userId</th>\n",
       "      <th>movieId</th>\n",
       "      <th>rating</th>\n",
       "      <th>timestamp</th>\n",
       "    </tr>\n",
       "  </thead>\n",
       "  <tbody>\n",
       "    <tr>\n",
       "      <th>0</th>\n",
       "      <td>1</td>\n",
       "      <td>1</td>\n",
       "      <td>4.0</td>\n",
       "      <td>964982703</td>\n",
       "    </tr>\n",
       "    <tr>\n",
       "      <th>1</th>\n",
       "      <td>1</td>\n",
       "      <td>3</td>\n",
       "      <td>4.0</td>\n",
       "      <td>964981247</td>\n",
       "    </tr>\n",
       "    <tr>\n",
       "      <th>2</th>\n",
       "      <td>1</td>\n",
       "      <td>6</td>\n",
       "      <td>4.0</td>\n",
       "      <td>964982224</td>\n",
       "    </tr>\n",
       "    <tr>\n",
       "      <th>3</th>\n",
       "      <td>1</td>\n",
       "      <td>47</td>\n",
       "      <td>5.0</td>\n",
       "      <td>964983815</td>\n",
       "    </tr>\n",
       "    <tr>\n",
       "      <th>4</th>\n",
       "      <td>1</td>\n",
       "      <td>50</td>\n",
       "      <td>5.0</td>\n",
       "      <td>964982931</td>\n",
       "    </tr>\n",
       "  </tbody>\n",
       "</table>\n",
       "</div>"
      ],
      "text/plain": [
       "   userId  movieId  rating  timestamp\n",
       "0       1        1     4.0  964982703\n",
       "1       1        3     4.0  964981247\n",
       "2       1        6     4.0  964982224\n",
       "3       1       47     5.0  964983815\n",
       "4       1       50     5.0  964982931"
      ]
     },
     "execution_count": 98,
     "metadata": {},
     "output_type": "execute_result"
    }
   ],
   "source": [
    "import math\n",
    "import pandas as pd\n",
    "import numpy as np                  \n",
    "df=pd.read_csv('data/ratings.csv') \n",
    "df.head()"
   ]
  },
  {
   "cell_type": "code",
   "execution_count": 99,
   "metadata": {},
   "outputs": [
    {
     "name": "stdout",
     "output_type": "stream",
     "text": [
      "100836\n"
     ]
    }
   ],
   "source": [
    "df = df[['userId','movieId']]\n",
    "print(len(df))"
   ]
  },
  {
   "cell_type": "code",
   "execution_count": 100,
   "metadata": {},
   "outputs": [
    {
     "name": "stdout",
     "output_type": "stream",
     "text": [
      "100836\n"
     ]
    }
   ],
   "source": [
    "df = df.drop_duplicates()\n",
    "print(len(df))"
   ]
  },
  {
   "cell_type": "code",
   "execution_count": 101,
   "metadata": {},
   "outputs": [],
   "source": [
    "users = df[['userId']]\n",
    "movies = df[['movieId']]"
   ]
  },
  {
   "cell_type": "code",
   "execution_count": 102,
   "metadata": {},
   "outputs": [],
   "source": [
    "from sklearn.model_selection import train_test_split\n",
    "x_train,x_test,y_train,y_test=train_test_split(users,movies,test_size=0.2)"
   ]
  },
  {
   "cell_type": "code",
   "execution_count": 103,
   "metadata": {},
   "outputs": [
    {
     "data": {
      "text/html": [
       "<div>\n",
       "<style scoped>\n",
       "    .dataframe tbody tr th:only-of-type {\n",
       "        vertical-align: middle;\n",
       "    }\n",
       "\n",
       "    .dataframe tbody tr th {\n",
       "        vertical-align: top;\n",
       "    }\n",
       "\n",
       "    .dataframe thead th {\n",
       "        text-align: right;\n",
       "    }\n",
       "</style>\n",
       "<table border=\"1\" class=\"dataframe\">\n",
       "  <thead>\n",
       "    <tr style=\"text-align: right;\">\n",
       "      <th></th>\n",
       "      <th>userId</th>\n",
       "      <th>movieId</th>\n",
       "    </tr>\n",
       "  </thead>\n",
       "  <tbody>\n",
       "    <tr>\n",
       "      <th>49581</th>\n",
       "      <td>318</td>\n",
       "      <td>71468</td>\n",
       "    </tr>\n",
       "    <tr>\n",
       "      <th>56748</th>\n",
       "      <td>377</td>\n",
       "      <td>5468</td>\n",
       "    </tr>\n",
       "    <tr>\n",
       "      <th>1224</th>\n",
       "      <td>10</td>\n",
       "      <td>86548</td>\n",
       "    </tr>\n",
       "    <tr>\n",
       "      <th>66864</th>\n",
       "      <td>432</td>\n",
       "      <td>1835</td>\n",
       "    </tr>\n",
       "    <tr>\n",
       "      <th>52841</th>\n",
       "      <td>346</td>\n",
       "      <td>6987</td>\n",
       "    </tr>\n",
       "  </tbody>\n",
       "</table>\n",
       "</div>"
      ],
      "text/plain": [
       "       userId  movieId\n",
       "49581     318    71468\n",
       "56748     377     5468\n",
       "1224       10    86548\n",
       "66864     432     1835\n",
       "52841     346     6987"
      ]
     },
     "execution_count": 103,
     "metadata": {},
     "output_type": "execute_result"
    }
   ],
   "source": [
    "train = x_train.join(y_train, how='outer')\n",
    "train.head()"
   ]
  },
  {
   "cell_type": "markdown",
   "metadata": {},
   "source": [
    "### 4. How to Design make the List"
   ]
  },
  {
   "cell_type": "code",
   "execution_count": 104,
   "metadata": {},
   "outputs": [],
   "source": [
    "import csv\n",
    "\n",
    "class Handle(object):\n",
    "    def __init__(self):\n",
    "        pass\n",
    "\n",
    "    # User is the key.\n",
    "    def users_standard(self, train):\n",
    "        userMode = dict()\n",
    "        \n",
    "        for index, row in train.iterrows():\n",
    "            userid = row['userId']\n",
    "            movieid = row['movieId']\n",
    "            if userid in userMode:\n",
    "                userMode[userid].add(movieid)\n",
    "            else:\n",
    "                item=set()\n",
    "                item.add(movieid)\n",
    "                userMode[userid]=item\n",
    "\n",
    "        return userMode\n",
    "\n",
    "    # Movie is the key.\n",
    "    def movies_standard(self, train):\n",
    "        movieMode = dict()\n",
    "        for index, row in train.iterrows():\n",
    "            userid = row['userId']\n",
    "            movieid = row['movieId']\n",
    "            if movieid in movieMode:\n",
    "                movieMode[movieid].add(userid)\n",
    "            else:\n",
    "                users = set()\n",
    "                users.add(userid)\n",
    "                movieMode[movieid] = users\n",
    "        return movieMode"
   ]
  },
  {
   "cell_type": "code",
   "execution_count": 105,
   "metadata": {},
   "outputs": [
    {
     "name": "stdout",
     "output_type": "stream",
     "text": [
      "610\n",
      "8981\n"
     ]
    }
   ],
   "source": [
    "handler = Handle()\n",
    "ulist = handler.users_standard(train)\n",
    "mlist = handler.movies_standard(train)\n",
    "print(len(ulist))\n",
    "print(len(mlist))"
   ]
  },
  {
   "cell_type": "code",
   "execution_count": 113,
   "metadata": {},
   "outputs": [],
   "source": [
    "import csv, math\n",
    "maxR = 20\n",
    "\n",
    "class userCF(object):\n",
    "    def __init__(self):\n",
    "        pass\n",
    "\n",
    "    # main function of this section\n",
    "    def userCF_alg(self,ID,userLists,movieLists):\n",
    "        W = self.related_martix(movieLists)\n",
    "        Rlist = self.userIIF(W,ID,userLists,movieLists)\n",
    "        return Rlist\n",
    "\n",
    "    # Calculate related_martix\n",
    "    def related_martix(self,mLists):\n",
    "        print(\"## Related matrix is generating............\")\n",
    "        C = dict()\n",
    "        N = dict()\n",
    "\n",
    "        for i in mLists:\n",
    "            users = mLists[i]\n",
    "            for u in users:\n",
    "                if u in N:\n",
    "                    N[u]+=1\n",
    "                else:\n",
    "                    N[u]=1\n",
    "\n",
    "                for v in users:\n",
    "                    if u == v:\n",
    "                        continue\n",
    "                    else:\n",
    "                        if u in C:\n",
    "                            pass\n",
    "                        else:\n",
    "                            C[u] = dict()\n",
    "\n",
    "                        if v in C[u]:\n",
    "                            C[u][v] += 1/math.log(1+len(users))\n",
    "                        else:\n",
    "                            C[u][v] = 1/math.log(1 + len(users))\n",
    "\n",
    "        W = dict()\n",
    "        for u, related_users in C.items():\n",
    "            if u in W:\n",
    "                pass\n",
    "            else:\n",
    "                W[u] = dict()\n",
    "\n",
    "            for v, cuv in related_users.items():\n",
    "                W[u][v] = cuv/math.sqrt(N[u]*N[v])\n",
    "                #print(W[u][v])\n",
    "        return W\n",
    "\n",
    "    # Genreate Recommand list.\n",
    "    def userIIF(self,W,ID,uLists,mLists):\n",
    "        print(\"## Recommand list is generating................\")\n",
    "        matchM = dict()\n",
    "        if ID in W:\n",
    "            Similar = W[ID]\n",
    "            for item in Similar:\n",
    "                for movieitem in uLists[item]:\n",
    "                    if movieitem in uLists[ID]:\n",
    "                        pass\n",
    "                    else:\n",
    "                        if movieitem in matchM:\n",
    "                            matchM[movieitem] += Similar[item]\n",
    "                        else:\n",
    "                            matchM[movieitem] = 0\n",
    "                            matchM[movieitem] += Similar[item]\n",
    "\n",
    "            sortL = sorted(matchM.items(), key=lambda d: d[1], reverse=True) # turn dict into list\n",
    "\n",
    "            if len(sortL) == 0:\n",
    "                return None\n",
    "            else:\n",
    "                finalList = list()\n",
    "                if (len(sortL) < maxR):\n",
    "                    for item in sortL:\n",
    "                        finalList.append(item[0])\n",
    "                else:\n",
    "                    for item in sortL[:maxR]:\n",
    "                        # print(\"%s : %s\"%(item[0],item[1]))\n",
    "                        finalList.append(item[0])\n",
    "                    return finalList\n",
    "\n",
    "        else:\n",
    "            return None\n",
    "\n",
    "        return None"
   ]
  },
  {
   "cell_type": "code",
   "execution_count": 114,
   "metadata": {},
   "outputs": [
    {
     "name": "stdout",
     "output_type": "stream",
     "text": [
      "## Related matrix is generating............\n"
     ]
    },
    {
     "data": {
      "text/plain": [
       "610"
      ]
     },
     "execution_count": 114,
     "metadata": {},
     "output_type": "execute_result"
    }
   ],
   "source": [
    "usercf = userCF()\n",
    "matrix = usercf.related_martix(mlist)\n",
    "len(matrix)"
   ]
  },
  {
   "cell_type": "code",
   "execution_count": 117,
   "metadata": {},
   "outputs": [
    {
     "name": "stdout",
     "output_type": "stream",
     "text": [
      "## Recommand list is generating................\n"
     ]
    },
    {
     "data": {
      "text/plain": [
       "[356,\n",
       " 296,\n",
       " 318,\n",
       " 480,\n",
       " 589,\n",
       " 1270,\n",
       " 150,\n",
       " 2762,\n",
       " 608,\n",
       " 858,\n",
       " 380,\n",
       " 377,\n",
       " 588,\n",
       " 32,\n",
       " 1214,\n",
       " 4993,\n",
       " 7153,\n",
       " 1197,\n",
       " 364,\n",
       " 5952]"
      ]
     },
     "execution_count": 117,
     "metadata": {},
     "output_type": "execute_result"
    }
   ],
   "source": [
    "result = usercf.userIIF(matrix,1,ulist,mlist)\n",
    "result"
   ]
  },
  {
   "cell_type": "code",
   "execution_count": 148,
   "metadata": {},
   "outputs": [
    {
     "data": {
      "text/html": [
       "<div>\n",
       "<style scoped>\n",
       "    .dataframe tbody tr th:only-of-type {\n",
       "        vertical-align: middle;\n",
       "    }\n",
       "\n",
       "    .dataframe tbody tr th {\n",
       "        vertical-align: top;\n",
       "    }\n",
       "\n",
       "    .dataframe thead th {\n",
       "        text-align: right;\n",
       "    }\n",
       "</style>\n",
       "<table border=\"1\" class=\"dataframe\">\n",
       "  <thead>\n",
       "    <tr style=\"text-align: right;\">\n",
       "      <th></th>\n",
       "      <th>movieId</th>\n",
       "      <th>title</th>\n",
       "      <th>genres</th>\n",
       "    </tr>\n",
       "  </thead>\n",
       "  <tbody>\n",
       "    <tr>\n",
       "      <th>0</th>\n",
       "      <td>1</td>\n",
       "      <td>Toy Story (1995)</td>\n",
       "      <td>Adventure|Animation|Children|Comedy|Fantasy</td>\n",
       "    </tr>\n",
       "    <tr>\n",
       "      <th>1</th>\n",
       "      <td>2</td>\n",
       "      <td>Jumanji (1995)</td>\n",
       "      <td>Adventure|Children|Fantasy</td>\n",
       "    </tr>\n",
       "    <tr>\n",
       "      <th>2</th>\n",
       "      <td>3</td>\n",
       "      <td>Grumpier Old Men (1995)</td>\n",
       "      <td>Comedy|Romance</td>\n",
       "    </tr>\n",
       "    <tr>\n",
       "      <th>3</th>\n",
       "      <td>4</td>\n",
       "      <td>Waiting to Exhale (1995)</td>\n",
       "      <td>Comedy|Drama|Romance</td>\n",
       "    </tr>\n",
       "    <tr>\n",
       "      <th>4</th>\n",
       "      <td>5</td>\n",
       "      <td>Father of the Bride Part II (1995)</td>\n",
       "      <td>Comedy</td>\n",
       "    </tr>\n",
       "  </tbody>\n",
       "</table>\n",
       "</div>"
      ],
      "text/plain": [
       "   movieId                               title  \\\n",
       "0        1                    Toy Story (1995)   \n",
       "1        2                      Jumanji (1995)   \n",
       "2        3             Grumpier Old Men (1995)   \n",
       "3        4            Waiting to Exhale (1995)   \n",
       "4        5  Father of the Bride Part II (1995)   \n",
       "\n",
       "                                        genres  \n",
       "0  Adventure|Animation|Children|Comedy|Fantasy  \n",
       "1                   Adventure|Children|Fantasy  \n",
       "2                               Comedy|Romance  \n",
       "3                         Comedy|Drama|Romance  \n",
       "4                                       Comedy  "
      ]
     },
     "execution_count": 148,
     "metadata": {},
     "output_type": "execute_result"
    }
   ],
   "source": [
    "import pandas as pd                 \n",
    "movies=pd.read_csv('data/movies.csv')\n",
    "movies.head()"
   ]
  },
  {
   "cell_type": "code",
   "execution_count": 150,
   "metadata": {},
   "outputs": [],
   "source": [
    "movieResult = movies[movies['movieId'].isin(result)]"
   ]
  },
  {
   "cell_type": "code",
   "execution_count": 151,
   "metadata": {},
   "outputs": [
    {
     "data": {
      "text/html": [
       "<div>\n",
       "<style scoped>\n",
       "    .dataframe tbody tr th:only-of-type {\n",
       "        vertical-align: middle;\n",
       "    }\n",
       "\n",
       "    .dataframe tbody tr th {\n",
       "        vertical-align: top;\n",
       "    }\n",
       "\n",
       "    .dataframe thead th {\n",
       "        text-align: right;\n",
       "    }\n",
       "</style>\n",
       "<table border=\"1\" class=\"dataframe\">\n",
       "  <thead>\n",
       "    <tr style=\"text-align: right;\">\n",
       "      <th></th>\n",
       "      <th>movieId</th>\n",
       "      <th>title</th>\n",
       "      <th>genres</th>\n",
       "    </tr>\n",
       "  </thead>\n",
       "  <tbody>\n",
       "    <tr>\n",
       "      <th>31</th>\n",
       "      <td>32</td>\n",
       "      <td>Twelve Monkeys (a.k.a. 12 Monkeys) (1995)</td>\n",
       "      <td>Mystery|Sci-Fi|Thriller</td>\n",
       "    </tr>\n",
       "    <tr>\n",
       "      <th>123</th>\n",
       "      <td>150</td>\n",
       "      <td>Apollo 13 (1995)</td>\n",
       "      <td>Adventure|Drama|IMAX</td>\n",
       "    </tr>\n",
       "    <tr>\n",
       "      <th>257</th>\n",
       "      <td>296</td>\n",
       "      <td>Pulp Fiction (1994)</td>\n",
       "      <td>Comedy|Crime|Drama|Thriller</td>\n",
       "    </tr>\n",
       "    <tr>\n",
       "      <th>277</th>\n",
       "      <td>318</td>\n",
       "      <td>Shawshank Redemption, The (1994)</td>\n",
       "      <td>Crime|Drama</td>\n",
       "    </tr>\n",
       "    <tr>\n",
       "      <th>314</th>\n",
       "      <td>356</td>\n",
       "      <td>Forrest Gump (1994)</td>\n",
       "      <td>Comedy|Drama|Romance|War</td>\n",
       "    </tr>\n",
       "    <tr>\n",
       "      <th>322</th>\n",
       "      <td>364</td>\n",
       "      <td>Lion King, The (1994)</td>\n",
       "      <td>Adventure|Animation|Children|Drama|Musical|IMAX</td>\n",
       "    </tr>\n",
       "    <tr>\n",
       "      <th>334</th>\n",
       "      <td>377</td>\n",
       "      <td>Speed (1994)</td>\n",
       "      <td>Action|Romance|Thriller</td>\n",
       "    </tr>\n",
       "    <tr>\n",
       "      <th>337</th>\n",
       "      <td>380</td>\n",
       "      <td>True Lies (1994)</td>\n",
       "      <td>Action|Adventure|Comedy|Romance|Thriller</td>\n",
       "    </tr>\n",
       "    <tr>\n",
       "      <th>418</th>\n",
       "      <td>480</td>\n",
       "      <td>Jurassic Park (1993)</td>\n",
       "      <td>Action|Adventure|Sci-Fi|Thriller</td>\n",
       "    </tr>\n",
       "    <tr>\n",
       "      <th>506</th>\n",
       "      <td>588</td>\n",
       "      <td>Aladdin (1992)</td>\n",
       "      <td>Adventure|Animation|Children|Comedy|Musical</td>\n",
       "    </tr>\n",
       "    <tr>\n",
       "      <th>507</th>\n",
       "      <td>589</td>\n",
       "      <td>Terminator 2: Judgment Day (1991)</td>\n",
       "      <td>Action|Sci-Fi</td>\n",
       "    </tr>\n",
       "    <tr>\n",
       "      <th>520</th>\n",
       "      <td>608</td>\n",
       "      <td>Fargo (1996)</td>\n",
       "      <td>Comedy|Crime|Drama|Thriller</td>\n",
       "    </tr>\n",
       "    <tr>\n",
       "      <th>659</th>\n",
       "      <td>858</td>\n",
       "      <td>Godfather, The (1972)</td>\n",
       "      <td>Crime|Drama</td>\n",
       "    </tr>\n",
       "    <tr>\n",
       "      <th>899</th>\n",
       "      <td>1197</td>\n",
       "      <td>Princess Bride, The (1987)</td>\n",
       "      <td>Action|Adventure|Comedy|Fantasy|Romance</td>\n",
       "    </tr>\n",
       "    <tr>\n",
       "      <th>915</th>\n",
       "      <td>1214</td>\n",
       "      <td>Alien (1979)</td>\n",
       "      <td>Horror|Sci-Fi</td>\n",
       "    </tr>\n",
       "    <tr>\n",
       "      <th>969</th>\n",
       "      <td>1270</td>\n",
       "      <td>Back to the Future (1985)</td>\n",
       "      <td>Adventure|Comedy|Sci-Fi</td>\n",
       "    </tr>\n",
       "    <tr>\n",
       "      <th>2078</th>\n",
       "      <td>2762</td>\n",
       "      <td>Sixth Sense, The (1999)</td>\n",
       "      <td>Drama|Horror|Mystery</td>\n",
       "    </tr>\n",
       "    <tr>\n",
       "      <th>3638</th>\n",
       "      <td>4993</td>\n",
       "      <td>Lord of the Rings: The Fellowship of the Ring,...</td>\n",
       "      <td>Adventure|Fantasy</td>\n",
       "    </tr>\n",
       "    <tr>\n",
       "      <th>4137</th>\n",
       "      <td>5952</td>\n",
       "      <td>Lord of the Rings: The Two Towers, The (2002)</td>\n",
       "      <td>Adventure|Fantasy</td>\n",
       "    </tr>\n",
       "    <tr>\n",
       "      <th>4800</th>\n",
       "      <td>7153</td>\n",
       "      <td>Lord of the Rings: The Return of the King, The...</td>\n",
       "      <td>Action|Adventure|Drama|Fantasy</td>\n",
       "    </tr>\n",
       "  </tbody>\n",
       "</table>\n",
       "</div>"
      ],
      "text/plain": [
       "      movieId                                              title  \\\n",
       "31         32          Twelve Monkeys (a.k.a. 12 Monkeys) (1995)   \n",
       "123       150                                   Apollo 13 (1995)   \n",
       "257       296                                Pulp Fiction (1994)   \n",
       "277       318                   Shawshank Redemption, The (1994)   \n",
       "314       356                                Forrest Gump (1994)   \n",
       "322       364                              Lion King, The (1994)   \n",
       "334       377                                       Speed (1994)   \n",
       "337       380                                   True Lies (1994)   \n",
       "418       480                               Jurassic Park (1993)   \n",
       "506       588                                     Aladdin (1992)   \n",
       "507       589                  Terminator 2: Judgment Day (1991)   \n",
       "520       608                                       Fargo (1996)   \n",
       "659       858                              Godfather, The (1972)   \n",
       "899      1197                         Princess Bride, The (1987)   \n",
       "915      1214                                       Alien (1979)   \n",
       "969      1270                          Back to the Future (1985)   \n",
       "2078     2762                            Sixth Sense, The (1999)   \n",
       "3638     4993  Lord of the Rings: The Fellowship of the Ring,...   \n",
       "4137     5952      Lord of the Rings: The Two Towers, The (2002)   \n",
       "4800     7153  Lord of the Rings: The Return of the King, The...   \n",
       "\n",
       "                                               genres  \n",
       "31                            Mystery|Sci-Fi|Thriller  \n",
       "123                              Adventure|Drama|IMAX  \n",
       "257                       Comedy|Crime|Drama|Thriller  \n",
       "277                                       Crime|Drama  \n",
       "314                          Comedy|Drama|Romance|War  \n",
       "322   Adventure|Animation|Children|Drama|Musical|IMAX  \n",
       "334                           Action|Romance|Thriller  \n",
       "337          Action|Adventure|Comedy|Romance|Thriller  \n",
       "418                  Action|Adventure|Sci-Fi|Thriller  \n",
       "506       Adventure|Animation|Children|Comedy|Musical  \n",
       "507                                     Action|Sci-Fi  \n",
       "520                       Comedy|Crime|Drama|Thriller  \n",
       "659                                       Crime|Drama  \n",
       "899           Action|Adventure|Comedy|Fantasy|Romance  \n",
       "915                                     Horror|Sci-Fi  \n",
       "969                           Adventure|Comedy|Sci-Fi  \n",
       "2078                             Drama|Horror|Mystery  \n",
       "3638                                Adventure|Fantasy  \n",
       "4137                                Adventure|Fantasy  \n",
       "4800                   Action|Adventure|Drama|Fantasy  "
      ]
     },
     "execution_count": 151,
     "metadata": {},
     "output_type": "execute_result"
    }
   ],
   "source": [
    "movieResult"
   ]
  },
  {
   "cell_type": "markdown",
   "metadata": {},
   "source": [
    "## Part 3 Tensorflow Movie Recommendation\n",
    "### 1. Load and Process Data"
   ]
  },
  {
   "cell_type": "code",
   "execution_count": 3,
   "metadata": {},
   "outputs": [],
   "source": [
    "import pandas as pd\n",
    "from sklearn.model_selection import train_test_split\n",
    "import numpy as np\n",
    "from collections import Counter\n",
    "import tensorflow as tf\n",
    "\n",
    "import os\n",
    "import pickle\n",
    "import re\n",
    "from tensorflow.python.ops import math_ops"
   ]
  },
  {
   "cell_type": "markdown",
   "metadata": {},
   "source": [
    "**Define the function load data**\n",
    "* Load Data from csv file\n",
    "* Transfer data to array, which is easier to use\n",
    "* Movie csv contains three rows: movieId, movie title and movie genres\n",
    "* Movie genre only contains 20 types, so use a map to map the type to an unique genre id from 0 to 19. The only thing needs to do is split the genres with |\n",
    "* Each movie has one name which is different from the other. So first, delete the year, which is useless for the movie recommendation. Then, split the movie title with title_count, which this time is 15. Each 15 character has one unique id for identitify"
   ]
  },
  {
   "cell_type": "code",
   "execution_count": 1,
   "metadata": {},
   "outputs": [],
   "source": [
    "def load_data():\n",
    "    movies = pd.read_csv('./data/movies.csv', sep=',', header=0, engine = 'python')\n",
    "    movies_orig = movies.values\n",
    "\n",
    "    title_map = {val:(val[:val.find('(')] if val.find('(')!=-1 else val) for ii,val in enumerate(set(movies['title']))}\n",
    "    movies['title'] = movies['title'].map(title_map)\n",
    "    \n",
    "    genres_set = set()\n",
    "    for val in movies['genres'].str.split('|'):\n",
    "        genres_set.update(val)\n",
    "\n",
    "    genres_set.add('<PAD>')\n",
    "    genres2int = {val:ii for ii, val in enumerate(genres_set)}\n",
    "    genres_map = {val:[genres2int[row] for row in val.split('|')] for ii,val in enumerate(set(movies['genres']))}\n",
    "\n",
    "    for key in genres_map:\n",
    "        for cnt in range(max(genres2int.values()) - len(genres_map[key])):\n",
    "            genres_map[key].insert(len(genres_map[key]) + cnt,genres2int['<PAD>'])\n",
    "    \n",
    "    movies['genres'] = movies['genres'].map(genres_map)\n",
    "\n",
    "    title_set = set()\n",
    "    for val in movies['title'].str.split():\n",
    "        title_set.update(val)\n",
    "    \n",
    "    title_set.add('<PAD>')\n",
    "    title2int = {val:ii for ii, val in enumerate(title_set)}\n",
    "\n",
    "    title_count = 15\n",
    "    title_map = {val:[title2int[row] for row in val.split()] for ii,val in enumerate(set(movies['title']))}\n",
    "    \n",
    "    for key in title_map:\n",
    "        for cnt in range(title_count - len(title_map[key])):\n",
    "            title_map[key].insert(len(title_map[key]) + cnt,title2int['<PAD>'])\n",
    "    \n",
    "    movies['title'] = movies['title'].map(title_map)\n",
    "\n",
    "    ratings = pd.read_csv('./data/ratings.csv', sep=',', header=0, engine = 'python')\n",
    "    ratings = ratings.filter(regex='userId|movieId|rating')\n",
    "    \n",
    "    data = pd.merge(ratings, movies)\n",
    "    \n",
    "    target_fields = ['rating']\n",
    "    features_pd, targets_pd = data.drop(target_fields, axis=1), data[target_fields]\n",
    "    \n",
    "    features = features_pd.values\n",
    "    targets_values = targets_pd.values\n",
    "    \n",
    "    return title_count, title_set, genres2int, features, targets_values, ratings, movies, data, movies_orig"
   ]
  },
  {
   "cell_type": "markdown",
   "metadata": {},
   "source": [
    "**Show Processed Data**"
   ]
  },
  {
   "cell_type": "code",
   "execution_count": 4,
   "metadata": {},
   "outputs": [
    {
     "data": {
      "text/html": [
       "<div>\n",
       "<style scoped>\n",
       "    .dataframe tbody tr th:only-of-type {\n",
       "        vertical-align: middle;\n",
       "    }\n",
       "\n",
       "    .dataframe tbody tr th {\n",
       "        vertical-align: top;\n",
       "    }\n",
       "\n",
       "    .dataframe thead th {\n",
       "        text-align: right;\n",
       "    }\n",
       "</style>\n",
       "<table border=\"1\" class=\"dataframe\">\n",
       "  <thead>\n",
       "    <tr style=\"text-align: right;\">\n",
       "      <th></th>\n",
       "      <th>userId</th>\n",
       "      <th>movieId</th>\n",
       "      <th>rating</th>\n",
       "      <th>title</th>\n",
       "      <th>genres</th>\n",
       "    </tr>\n",
       "  </thead>\n",
       "  <tbody>\n",
       "    <tr>\n",
       "      <th>0</th>\n",
       "      <td>1</td>\n",
       "      <td>1</td>\n",
       "      <td>4.0</td>\n",
       "      <td>[2747, 7569, 7431, 7431, 7431, 7431, 7431, 743...</td>\n",
       "      <td>[4, 13, 10, 18, 7, 11, 11, 11, 11, 11, 11, 11,...</td>\n",
       "    </tr>\n",
       "    <tr>\n",
       "      <th>1</th>\n",
       "      <td>5</td>\n",
       "      <td>1</td>\n",
       "      <td>4.0</td>\n",
       "      <td>[2747, 7569, 7431, 7431, 7431, 7431, 7431, 743...</td>\n",
       "      <td>[4, 13, 10, 18, 7, 11, 11, 11, 11, 11, 11, 11,...</td>\n",
       "    </tr>\n",
       "    <tr>\n",
       "      <th>2</th>\n",
       "      <td>7</td>\n",
       "      <td>1</td>\n",
       "      <td>4.5</td>\n",
       "      <td>[2747, 7569, 7431, 7431, 7431, 7431, 7431, 743...</td>\n",
       "      <td>[4, 13, 10, 18, 7, 11, 11, 11, 11, 11, 11, 11,...</td>\n",
       "    </tr>\n",
       "    <tr>\n",
       "      <th>3</th>\n",
       "      <td>15</td>\n",
       "      <td>1</td>\n",
       "      <td>2.5</td>\n",
       "      <td>[2747, 7569, 7431, 7431, 7431, 7431, 7431, 743...</td>\n",
       "      <td>[4, 13, 10, 18, 7, 11, 11, 11, 11, 11, 11, 11,...</td>\n",
       "    </tr>\n",
       "    <tr>\n",
       "      <th>4</th>\n",
       "      <td>17</td>\n",
       "      <td>1</td>\n",
       "      <td>4.5</td>\n",
       "      <td>[2747, 7569, 7431, 7431, 7431, 7431, 7431, 743...</td>\n",
       "      <td>[4, 13, 10, 18, 7, 11, 11, 11, 11, 11, 11, 11,...</td>\n",
       "    </tr>\n",
       "  </tbody>\n",
       "</table>\n",
       "</div>"
      ],
      "text/plain": [
       "   userId  movieId  rating                                              title  \\\n",
       "0       1        1     4.0  [2747, 7569, 7431, 7431, 7431, 7431, 7431, 743...   \n",
       "1       5        1     4.0  [2747, 7569, 7431, 7431, 7431, 7431, 7431, 743...   \n",
       "2       7        1     4.5  [2747, 7569, 7431, 7431, 7431, 7431, 7431, 743...   \n",
       "3      15        1     2.5  [2747, 7569, 7431, 7431, 7431, 7431, 7431, 743...   \n",
       "4      17        1     4.5  [2747, 7569, 7431, 7431, 7431, 7431, 7431, 743...   \n",
       "\n",
       "                                              genres  \n",
       "0  [4, 13, 10, 18, 7, 11, 11, 11, 11, 11, 11, 11,...  \n",
       "1  [4, 13, 10, 18, 7, 11, 11, 11, 11, 11, 11, 11,...  \n",
       "2  [4, 13, 10, 18, 7, 11, 11, 11, 11, 11, 11, 11,...  \n",
       "3  [4, 13, 10, 18, 7, 11, 11, 11, 11, 11, 11, 11,...  \n",
       "4  [4, 13, 10, 18, 7, 11, 11, 11, 11, 11, 11, 11,...  "
      ]
     },
     "execution_count": 4,
     "metadata": {},
     "output_type": "execute_result"
    }
   ],
   "source": [
    "title_count, title_set, genres2int, features, targets_values, ratings, movies, data, movies_orig = load_data()\n",
    "data.head()"
   ]
  },
  {
   "cell_type": "code",
   "execution_count": 32,
   "metadata": {},
   "outputs": [
    {
     "data": {
      "text/plain": [
       "100836"
      ]
     },
     "execution_count": 32,
     "metadata": {},
     "output_type": "execute_result"
    }
   ],
   "source": [
    "len(features)"
   ]
  },
  {
   "cell_type": "code",
   "execution_count": 6,
   "metadata": {},
   "outputs": [
    {
     "data": {
      "text/plain": [
       "4"
      ]
     },
     "execution_count": 6,
     "metadata": {},
     "output_type": "execute_result"
    }
   ],
   "source": [
    "len(features[0])"
   ]
  },
  {
   "cell_type": "code",
   "execution_count": 35,
   "metadata": {},
   "outputs": [
    {
     "data": {
      "text/html": [
       "<div>\n",
       "<style scoped>\n",
       "    .dataframe tbody tr th:only-of-type {\n",
       "        vertical-align: middle;\n",
       "    }\n",
       "\n",
       "    .dataframe tbody tr th {\n",
       "        vertical-align: top;\n",
       "    }\n",
       "\n",
       "    .dataframe thead th {\n",
       "        text-align: right;\n",
       "    }\n",
       "</style>\n",
       "<table border=\"1\" class=\"dataframe\">\n",
       "  <thead>\n",
       "    <tr style=\"text-align: right;\">\n",
       "      <th></th>\n",
       "      <th>userId</th>\n",
       "      <th>movieId</th>\n",
       "      <th>rating</th>\n",
       "    </tr>\n",
       "  </thead>\n",
       "  <tbody>\n",
       "    <tr>\n",
       "      <th>0</th>\n",
       "      <td>1</td>\n",
       "      <td>1</td>\n",
       "      <td>4.0</td>\n",
       "    </tr>\n",
       "    <tr>\n",
       "      <th>1</th>\n",
       "      <td>1</td>\n",
       "      <td>3</td>\n",
       "      <td>4.0</td>\n",
       "    </tr>\n",
       "    <tr>\n",
       "      <th>2</th>\n",
       "      <td>1</td>\n",
       "      <td>6</td>\n",
       "      <td>4.0</td>\n",
       "    </tr>\n",
       "    <tr>\n",
       "      <th>3</th>\n",
       "      <td>1</td>\n",
       "      <td>47</td>\n",
       "      <td>5.0</td>\n",
       "    </tr>\n",
       "    <tr>\n",
       "      <th>4</th>\n",
       "      <td>1</td>\n",
       "      <td>50</td>\n",
       "      <td>5.0</td>\n",
       "    </tr>\n",
       "  </tbody>\n",
       "</table>\n",
       "</div>"
      ],
      "text/plain": [
       "   userId  movieId  rating\n",
       "0       1        1     4.0\n",
       "1       1        3     4.0\n",
       "2       1        6     4.0\n",
       "3       1       47     5.0\n",
       "4       1       50     5.0"
      ]
     },
     "execution_count": 35,
     "metadata": {},
     "output_type": "execute_result"
    }
   ],
   "source": [
    "ratings.head()"
   ]
  },
  {
   "cell_type": "code",
   "execution_count": 36,
   "metadata": {},
   "outputs": [
    {
     "data": {
      "text/plain": [
       "array([7, 1,\n",
       "       list([5129, 6520, 7607, 7607, 7607, 7607, 7607, 7607, 7607, 7607, 7607, 7607, 7607, 7607, 7607]),\n",
       "       list([18, 12, 6, 20, 19, 17, 17, 17, 17, 17, 17, 17, 17, 17, 17, 17, 17, 17, 17, 17])],\n",
       "      dtype=object)"
      ]
     },
     "execution_count": 36,
     "metadata": {},
     "output_type": "execute_result"
    }
   ],
   "source": [
    "features[2]"
   ]
  },
  {
   "cell_type": "markdown",
   "metadata": {},
   "source": [
    "**Define Some Parameter**"
   ]
  },
  {
   "cell_type": "code",
   "execution_count": 8,
   "metadata": {},
   "outputs": [
    {
     "data": {
      "text/plain": [
       "(611, 193610, 21, 9126)"
      ]
     },
     "execution_count": 8,
     "metadata": {},
     "output_type": "execute_result"
    }
   ],
   "source": [
    "embed_dim = 32\n",
    "uid_max = max(features.take(0,1)) + 1\n",
    "mid_max = max(features.take(1,1)) + 1\n",
    "categories_max = max(genres2int.values()) + 1\n",
    "title_max = len(title_set)\n",
    "\n",
    "uid_max,mid_max,categories_max,title_max"
   ]
  },
  {
   "cell_type": "markdown",
   "metadata": {},
   "source": [
    "**Define Tensorflow Placeholder**"
   ]
  },
  {
   "cell_type": "code",
   "execution_count": 9,
   "metadata": {},
   "outputs": [],
   "source": [
    "def get_inputs():\n",
    "    uid = tf.placeholder(tf.int32, [None, 1], name=\"uid\")\n",
    "    \n",
    "    movie_id = tf.placeholder(tf.int32, [None, 1], name=\"movie_id\")\n",
    "    movie_categories = tf.placeholder(tf.int32, [None, 20], name=\"movie_categories\")\n",
    "    movie_titles = tf.placeholder(tf.int32, [None, 15], name=\"movie_titles\")\n",
    "    targets = tf.placeholder(tf.int32, [None, 1], name=\"targets\")\n",
    "    \n",
    "    LearningRate = tf.placeholder(tf.float32, name = \"LearningRate\")\n",
    "    dropout_keep_prob = tf.placeholder(tf.float32, name = \"dropout_keep_prob\")\n",
    "    return uid, movie_id, movie_categories, movie_titles, targets, LearningRate, dropout_keep_prob"
   ]
  },
  {
   "cell_type": "markdown",
   "metadata": {},
   "source": [
    "### 2. Build Network\n",
    "![](images/network.jpeg)\n",
    "**Create Layers for Neural Networks**"
   ]
  },
  {
   "cell_type": "code",
   "execution_count": 10,
   "metadata": {},
   "outputs": [],
   "source": [
    "def get_user_embed_layer(uid):\n",
    "    with tf.name_scope(\"user_embeding\"):\n",
    "        uid_embed_matrix = tf.Variable(tf.random_uniform([uid_max, embed_dim], -1, 1), name = \"uid_embed_matrix\")\n",
    "        uid_embed_layer = tf.nn.embedding_lookup(uid_embed_matrix, uid, name = \"uid_embed_layer\")\n",
    "        return uid_embed_layer\n",
    "def get_movie_embed_layer(movie_id):\n",
    "    with tf.name_scope(\"movie_embedding\"):\n",
    "        movie_id_embed_matrix = tf.Variable(tf.random_uniform([mid_max, embed_dim], -1, 1), name = \"movie_id_embed_matrix\")\n",
    "        movie_id_embed_layer = tf.nn.embedding_lookup(movie_id_embed_matrix, movie_id, name = \"movie_id_embed_layer\")\n",
    "    return movie_id_embed_layer"
   ]
  },
  {
   "cell_type": "code",
   "execution_count": 11,
   "metadata": {},
   "outputs": [],
   "source": [
    "def get_movie_categories_layers(movie_categories):\n",
    "    with tf.name_scope(\"movie_categories_layers\"):\n",
    "        movie_categories_embed_matrix = tf.Variable(tf.random_uniform([categories_max, embed_dim], -1, 1), name = \"movie_categories_embed_matrix\")\n",
    "        movie_categories_embed_layer = tf.nn.embedding_lookup(movie_categories_embed_matrix, movie_categories, name = \"movie_categories_embed_layer\")\n",
    "        movie_categories_embed_layer = tf.reduce_sum(movie_categories_embed_layer, axis=1, keep_dims=True)\n",
    "    return movie_categories_embed_layer"
   ]
  },
  {
   "cell_type": "code",
   "execution_count": 12,
   "metadata": {},
   "outputs": [],
   "source": [
    "sentences_size = title_count\n",
    "window_sizes = {2, 3, 4, 5}\n",
    "\n",
    "filter_num = 8\n",
    "\n",
    "movieid2idx = {val[0]:i for i, val in enumerate(movies.values)}\n",
    "num_epochs = 1\n",
    "batch_size = 256\n",
    "dropout_keep = 0.5\n",
    "learning_rate = 0.0001\n",
    "show_every_n_batches = 50\n",
    "\n",
    "save_dir = './save'"
   ]
  },
  {
   "cell_type": "markdown",
   "metadata": {},
   "source": [
    "#### Create Layer for Words\n",
    "**Text convolutional network**  \n",
    "The first layer of the network is the word embedding layer, an embedding matrix consisting of the embedded vectors of each word. The next layer uses a number of different size (window size) convolution kernels to convolve on the embedded matrix. The window size refers to each convolution covering several words. This is not the same as convolving the image. The convolution of the image is usually 2x2, 3x3, 5x5, and the text convolution is to cover the embedded vector of the entire word, so the size is (number of words, vector dimension). For example, slide 3, 4 or 5 words at a time. The third layer network is max pooling to get a long vector, and finally use dropout for regularization, and finally get the characteristics of the movie Title.\n",
    "![](images/text_cnn.png)\n",
    "**Dropout Layer to Solve the Problem of Overfitting**"
   ]
  },
  {
   "cell_type": "code",
   "execution_count": 13,
   "metadata": {},
   "outputs": [],
   "source": [
    "def get_movie_cnn_layer(movie_titles):\n",
    "    with tf.name_scope(\"movie_embedding\"):\n",
    "        movie_title_embed_matrix = tf.Variable(tf.random_uniform([title_max, embed_dim], -1, 1), name = \"movie_title_embed_matrix\")\n",
    "        movie_title_embed_layer = tf.nn.embedding_lookup(movie_title_embed_matrix, movie_titles, name = \"movie_title_embed_layer\")\n",
    "        movie_title_embed_layer_expand = tf.expand_dims(movie_title_embed_layer, -1)\n",
    "\n",
    "    pool_layer_lst = []\n",
    "    for window_size in window_sizes:\n",
    "        with tf.name_scope(\"movie_txt_conv_maxpool_{}\".format(window_size)):\n",
    "            filter_weights = tf.Variable(tf.truncated_normal([window_size, embed_dim, 1, filter_num],stddev=0.1),name = \"filter_weights\")\n",
    "            filter_bias = tf.Variable(tf.constant(0.1, shape=[filter_num]), name=\"filter_bias\")\n",
    "            \n",
    "            conv_layer = tf.nn.conv2d(movie_title_embed_layer_expand, filter_weights, [1,1,1,1], padding=\"VALID\", name=\"conv_layer\")\n",
    "            relu_layer = tf.nn.relu(tf.nn.bias_add(conv_layer,filter_bias), name =\"relu_layer\")\n",
    "            \n",
    "            maxpool_layer = tf.nn.max_pool(relu_layer, [1,sentences_size - window_size + 1 ,1,1], [1,1,1,1], padding=\"VALID\", name=\"maxpool_layer\")\n",
    "            pool_layer_lst.append(maxpool_layer)\n",
    "\n",
    "    with tf.name_scope(\"pool_dropout\"):\n",
    "        pool_layer = tf.concat(pool_layer_lst, 3, name =\"pool_layer\")\n",
    "        max_num = len(window_sizes) * filter_num\n",
    "        pool_layer_flat = tf.reshape(pool_layer , [-1, 1, max_num], name = \"pool_layer_flat\")\n",
    "    \n",
    "        dropout_layer = tf.nn.dropout(pool_layer_flat, dropout_keep_prob, name = \"dropout_layer\")\n",
    "    return pool_layer_flat, dropout_layer"
   ]
  },
  {
   "cell_type": "markdown",
   "metadata": {},
   "source": [
    "**Combine All Layers**"
   ]
  },
  {
   "cell_type": "code",
   "execution_count": 14,
   "metadata": {},
   "outputs": [],
   "source": [
    "def get_movie_feature_layer(uid_embed_layer, movie_id_embed_layer, movie_categories_embed_layer, dropout_layer):\n",
    "    with tf.name_scope(\"movie_fc\"):\n",
    "        uid_fc_layer = tf.layers.dense(uid_embed_layer, embed_dim, name = \"uid_fc_layer\", activation=tf.nn.relu)\n",
    "        movie_id_fc_layer = tf.layers.dense(movie_id_embed_layer, embed_dim, name = \"movie_id_fc_layer\", activation=tf.nn.relu)\n",
    "        movie_categories_fc_layer = tf.layers.dense(movie_categories_embed_layer, embed_dim, name = \"movie_categories_fc_layer\", activation=tf.nn.relu)\n",
    "    \n",
    "        movie_combine_layer = tf.concat([uid_fc_layer, movie_id_fc_layer, movie_categories_fc_layer, dropout_layer], 2) \n",
    "        movie_combine_layer = tf.contrib.layers.fully_connected(movie_combine_layer, 200, tf.tanh)\n",
    "    \n",
    "        movie_combine_layer_flat = tf.reshape(movie_combine_layer, [-1, 200])\n",
    "    return movie_combine_layer, movie_combine_layer_flat"
   ]
  },
  {
   "cell_type": "markdown",
   "metadata": {},
   "source": [
    "### 3. Train Data\n",
    "**Create Graph for Training**"
   ]
  },
  {
   "cell_type": "code",
   "execution_count": 15,
   "metadata": {},
   "outputs": [
    {
     "name": "stdout",
     "output_type": "stream",
     "text": [
      "WARNING:tensorflow:From /anaconda3/lib/python3.7/site-packages/tensorflow/python/framework/op_def_library.py:263: colocate_with (from tensorflow.python.framework.ops) is deprecated and will be removed in a future version.\n",
      "Instructions for updating:\n",
      "Colocations handled automatically by placer.\n",
      "WARNING:tensorflow:From <ipython-input-11-e3c797bd8cdf>:5: calling reduce_sum_v1 (from tensorflow.python.ops.math_ops) with keep_dims is deprecated and will be removed in a future version.\n",
      "Instructions for updating:\n",
      "keep_dims is deprecated, use keepdims instead\n",
      "WARNING:tensorflow:From <ipython-input-13-ccbd7c8b2439>:24: calling dropout (from tensorflow.python.ops.nn_ops) with keep_prob is deprecated and will be removed in a future version.\n",
      "Instructions for updating:\n",
      "Please use `rate` instead of `keep_prob`. Rate should be set to `rate = 1 - keep_prob`.\n",
      "WARNING:tensorflow:From <ipython-input-14-3f7af645bb2c>:3: dense (from tensorflow.python.layers.core) is deprecated and will be removed in a future version.\n",
      "Instructions for updating:\n",
      "Use keras.layers.dense instead.\n",
      "\n",
      "WARNING: The TensorFlow contrib module will not be included in TensorFlow 2.0.\n",
      "For more information, please see:\n",
      "  * https://github.com/tensorflow/community/blob/master/rfcs/20180907-contrib-sunset.md\n",
      "  * https://github.com/tensorflow/addons\n",
      "If you depend on functionality not listed there, please file an issue.\n",
      "\n",
      "WARNING:tensorflow:From /anaconda3/lib/python3.7/site-packages/tensorflow/python/ops/losses/losses_impl.py:667: to_float (from tensorflow.python.ops.math_ops) is deprecated and will be removed in a future version.\n",
      "Instructions for updating:\n",
      "Use tf.cast instead.\n",
      "WARNING:tensorflow:From /anaconda3/lib/python3.7/site-packages/tensorflow/python/ops/math_ops.py:3066: to_int32 (from tensorflow.python.ops.math_ops) is deprecated and will be removed in a future version.\n",
      "Instructions for updating:\n",
      "Use tf.cast instead.\n"
     ]
    }
   ],
   "source": [
    "tf.reset_default_graph()\n",
    "train_graph = tf.Graph()\n",
    "with train_graph.as_default():\n",
    "    uid, movie_id, movie_categories, movie_titles, targets, lr, dropout_keep_prob = get_inputs()\n",
    "    uid_embed_layer = get_user_embed_layer(uid)\n",
    "    movie_id_embed_layer = get_movie_embed_layer(movie_id)    \n",
    "    movie_categories_embed_layer = get_movie_categories_layers(movie_categories)\n",
    "    \n",
    "    pool_layer_flat, dropout_layer = get_movie_cnn_layer(movie_titles)\n",
    "    \n",
    "    movie_combine_layer, movie_combine_layer_flat = get_movie_feature_layer(uid_embed_layer,\n",
    "                                                                            movie_id_embed_layer, \n",
    "                                                                            movie_categories_embed_layer, \n",
    "                                                                            dropout_layer)\n",
    "    with tf.name_scope(\"inference\"):\n",
    "        inference = tf.reduce_sum(movie_combine_layer_flat, axis=1)\n",
    "        inference = tf.expand_dims(inference, axis=1)\n",
    "\n",
    "    with tf.name_scope(\"loss\"):\n",
    "        cost = tf.losses.mean_squared_error(targets, inference)\n",
    "        loss = tf.reduce_mean(cost)\n",
    "    global_step = tf.Variable(0, name=\"global_step\", trainable=False)\n",
    "    optimizer = tf.train.AdamOptimizer(lr)\n",
    "    gradients = optimizer.compute_gradients(loss)\n",
    "    train_op = optimizer.apply_gradients(gradients, global_step=global_step)"
   ]
  },
  {
   "cell_type": "markdown",
   "metadata": {},
   "source": [
    "**Use This to Split Training Data for Small Parts**"
   ]
  },
  {
   "cell_type": "code",
   "execution_count": 16,
   "metadata": {},
   "outputs": [],
   "source": [
    "def get_batches(Xs, ys, batch_size):\n",
    "    for start in range(0, len(Xs), batch_size):\n",
    "        end = min(start + batch_size, len(Xs))\n",
    "        yield Xs[start:end], ys[start:end]"
   ]
  },
  {
   "cell_type": "code",
   "execution_count": 17,
   "metadata": {},
   "outputs": [
    {
     "data": {
      "text/plain": [
       "<tf.Tensor 'inference/ExpandDims:0' shape=(?, 1) dtype=float32>"
      ]
     },
     "execution_count": 17,
     "metadata": {},
     "output_type": "execute_result"
    }
   ],
   "source": [
    "inference"
   ]
  },
  {
   "cell_type": "markdown",
   "metadata": {},
   "source": [
    "**Start Training**"
   ]
  },
  {
   "cell_type": "code",
   "execution_count": 18,
   "metadata": {},
   "outputs": [
    {
     "name": "stdout",
     "output_type": "stream",
     "text": [
      "Writing to /Users/wukaichun/Documents/data/final/runs/1555621142\n",
      "\n",
      "2019-04-18T16:59:03.994765: Epoch   0 Batch    0/315   train_loss = 20.519\n",
      "2019-04-18T16:59:11.419335: Epoch   0 Batch   50/315   train_loss = 4.069\n",
      "2019-04-18T16:59:18.811844: Epoch   0 Batch  100/315   train_loss = 3.110\n",
      "2019-04-18T16:59:26.208336: Epoch   0 Batch  150/315   train_loss = 2.030\n",
      "2019-04-18T16:59:33.643238: Epoch   0 Batch  200/315   train_loss = 1.704\n",
      "2019-04-18T16:59:40.977652: Epoch   0 Batch  250/315   train_loss = 1.536\n",
      "2019-04-18T16:59:48.308454: Epoch   0 Batch  300/315   train_loss = 1.581\n",
      "2019-04-18T16:59:50.424324: Epoch   0 Batch    0/78   test_loss = 1.065\n",
      "2019-04-18T16:59:50.707020: Epoch   0 Batch   50/78   test_loss = 1.441\n",
      "Model Trained and Saved\n"
     ]
    }
   ],
   "source": [
    "%matplotlib inline\n",
    "%config InlineBackend.figure_format = 'retina'\n",
    "import matplotlib.pyplot as plt\n",
    "import time\n",
    "import datetime\n",
    "\n",
    "losses = {'train':[], 'test':[]}\n",
    "\n",
    "with tf.Session(graph=train_graph) as sess:\n",
    "    \n",
    "    grad_summaries = []\n",
    "    for g, v in gradients:\n",
    "        if g is not None:\n",
    "            grad_hist_summary = tf.summary.histogram(\"{}/grad/hist\".format(v.name.replace(':', '_')), g)\n",
    "            sparsity_summary = tf.summary.scalar(\"{}/grad/sparsity\".format(v.name.replace(':', '_')), tf.nn.zero_fraction(g))\n",
    "            grad_summaries.append(grad_hist_summary)\n",
    "            grad_summaries.append(sparsity_summary)\n",
    "    grad_summaries_merged = tf.summary.merge(grad_summaries)\n",
    "        \n",
    "    timestamp = str(int(time.time()))\n",
    "    out_dir = os.path.abspath(os.path.join(os.path.curdir, \"runs\", timestamp))\n",
    "    print(\"Writing to {}\\n\".format(out_dir))\n",
    "     \n",
    "    # Summaries for loss and accuracy\n",
    "    loss_summary = tf.summary.scalar(\"loss\", loss)\n",
    "\n",
    "    # Train Summaries\n",
    "    train_summary_op = tf.summary.merge([loss_summary, grad_summaries_merged])\n",
    "    train_summary_dir = os.path.join(out_dir, \"summaries\", \"train\")\n",
    "    train_summary_writer = tf.summary.FileWriter(train_summary_dir, sess.graph)\n",
    "\n",
    "    # Inference summaries\n",
    "    inference_summary_op = tf.summary.merge([loss_summary])\n",
    "    inference_summary_dir = os.path.join(out_dir, \"summaries\", \"inference\")\n",
    "    inference_summary_writer = tf.summary.FileWriter(inference_summary_dir, sess.graph)\n",
    "\n",
    "    sess.run(tf.global_variables_initializer())\n",
    "    saver = tf.train.Saver()\n",
    "    for epoch_i in range(num_epochs):\n",
    "        \n",
    "        train_X,test_X, train_y, test_y = train_test_split(features,  \n",
    "                                                           targets_values,  \n",
    "                                                           test_size = 0.2,  \n",
    "                                                           random_state = 0)  \n",
    "        \n",
    "        train_batches = get_batches(train_X, train_y, batch_size)\n",
    "        test_batches = get_batches(test_X, test_y, batch_size)\n",
    "    \n",
    "        for batch_i in range(len(train_X) // batch_size):\n",
    "            x, y = next(train_batches)\n",
    "\n",
    "            categories = np.zeros([batch_size, 20])\n",
    "            for i in range(batch_size):\n",
    "                categories[i] = x.take(3,1)[i]\n",
    "\n",
    "            titles = np.zeros([batch_size, sentences_size])\n",
    "            for i in range(batch_size):\n",
    "                titles[i] = x.take(2,1)[i]\n",
    "\n",
    "            feed = {\n",
    "                uid: np.reshape(x.take(0,1), [batch_size, 1]),\n",
    "                movie_id: np.reshape(x.take(1,1), [batch_size, 1]),\n",
    "                movie_categories: categories,\n",
    "                movie_titles: titles,\n",
    "                targets: np.reshape(y, [batch_size, 1]),\n",
    "                dropout_keep_prob: dropout_keep,\n",
    "                lr: learning_rate}\n",
    "\n",
    "            step, train_loss, summaries, _ = sess.run([global_step, loss, train_summary_op, train_op], feed)  #cost\n",
    "            losses['train'].append(train_loss)\n",
    "            train_summary_writer.add_summary(summaries, step)\n",
    "            \n",
    "            # Show every <show_every_n_batches> batches\n",
    "            if (epoch_i * (len(train_X) // batch_size) + batch_i) % show_every_n_batches == 0:\n",
    "                time_str = datetime.datetime.now().isoformat()\n",
    "                print('{}: Epoch {:>3} Batch {:>4}/{}   train_loss = {:.3f}'.format(\n",
    "                    time_str,\n",
    "                    epoch_i,\n",
    "                    batch_i,\n",
    "                    (len(train_X) // batch_size),\n",
    "                    train_loss))\n",
    "                \n",
    "        for batch_i  in range(len(test_X) // batch_size):\n",
    "            x, y = next(test_batches)\n",
    "            \n",
    "            categories = np.zeros([batch_size, 20])\n",
    "            for i in range(batch_size):\n",
    "                categories[i] = x.take(3,1)[i]\n",
    "\n",
    "            titles = np.zeros([batch_size, sentences_size])\n",
    "            for i in range(batch_size):\n",
    "                titles[i] = x.take(2,1)[i]\n",
    "\n",
    "            feed = {\n",
    "                uid: np.reshape(x.take(0,1), [batch_size, 1]),\n",
    "                movie_id: np.reshape(x.take(1,1), [batch_size, 1]),\n",
    "                movie_categories: categories, \n",
    "                movie_titles: titles, \n",
    "                targets: np.reshape(y, [batch_size, 1]),\n",
    "                dropout_keep_prob: 1,\n",
    "                lr: learning_rate}\n",
    "            \n",
    "            step, test_loss, summaries = sess.run([global_step, loss, inference_summary_op], feed)  #cost\n",
    "\n",
    "            losses['test'].append(test_loss)\n",
    "            inference_summary_writer.add_summary(summaries, step) \n",
    "\n",
    "            time_str = datetime.datetime.now().isoformat()\n",
    "            if (epoch_i * (len(test_X) // batch_size) + batch_i) % show_every_n_batches == 0:\n",
    "                print('{}: Epoch {:>3} Batch {:>4}/{}   test_loss = {:.3f}'.format(\n",
    "                    time_str,\n",
    "                    epoch_i,\n",
    "                    batch_i,\n",
    "                    (len(test_X) // batch_size),\n",
    "                    test_loss))\n",
    "\n",
    "    saver.save(sess, save_dir)\n",
    "    print('Model Trained and Saved')"
   ]
  },
  {
   "cell_type": "markdown",
   "metadata": {},
   "source": [
    "### 4. Test\n",
    "**Draw Training Losses**"
   ]
  },
  {
   "cell_type": "code",
   "execution_count": 19,
   "metadata": {},
   "outputs": [
    {
     "data": {
      "image/png": "[encoded data removed]",
      "text/plain": [
       "<Figure size 432x288 with 1 Axes>"
      ]
     },
     "metadata": {
      "image/png": {
       "height": 250,
       "width": 380
      },
      "needs_background": "light"
     },
     "output_type": "display_data"
    }
   ],
   "source": [
    "plt.plot(losses['train'], label='Training loss')\n",
    "plt.legend()\n",
    "_ = plt.ylim()"
   ]
  },
  {
   "cell_type": "code",
   "execution_count": 20,
   "metadata": {},
   "outputs": [
    {
     "data": {
      "image/png": "[encoded data removed]",
      "text/plain": [
       "<Figure size 432x288 with 1 Axes>"
      ]
     },
     "metadata": {
      "image/png": {
       "height": 250,
       "width": 375
      },
      "needs_background": "light"
     },
     "output_type": "display_data"
    }
   ],
   "source": [
    "plt.plot(losses['test'], label='Test loss')\n",
    "plt.legend()\n",
    "_ = plt.ylim()"
   ]
  },
  {
   "cell_type": "markdown",
   "metadata": {},
   "source": [
    "**Great Tensor from Graph for Next Computing**"
   ]
  },
  {
   "cell_type": "code",
   "execution_count": 21,
   "metadata": {},
   "outputs": [],
   "source": [
    "def get_tensors(loaded_graph):\n",
    "\n",
    "    uid = loaded_graph.get_tensor_by_name(\"uid:0\")\n",
    "    movie_id = loaded_graph.get_tensor_by_name(\"movie_id:0\")\n",
    "    movie_categories = loaded_graph.get_tensor_by_name(\"movie_categories:0\")\n",
    "    movie_titles = loaded_graph.get_tensor_by_name(\"movie_titles:0\")\n",
    "    targets = loaded_graph.get_tensor_by_name(\"targets:0\")\n",
    "    dropout_keep_prob = loaded_graph.get_tensor_by_name(\"dropout_keep_prob:0\")\n",
    "    lr = loaded_graph.get_tensor_by_name(\"LearningRate:0\")\n",
    "    inference = loaded_graph.get_tensor_by_name(\"inference/ExpandDims:0\")\n",
    "    movie_combine_layer_flat = loaded_graph.get_tensor_by_name(\"movie_fc/Reshape:0\")\n",
    "    return uid, movie_id, movie_categories, movie_titles, targets, lr, dropout_keep_prob, inference, movie_combine_layer_flat"
   ]
  },
  {
   "cell_type": "markdown",
   "metadata": {},
   "source": [
    "**Define This Function to Rate the Movie Using user_id and movie_id**"
   ]
  },
  {
   "cell_type": "code",
   "execution_count": 22,
   "metadata": {},
   "outputs": [],
   "source": [
    "def rating_movie(user_id_val, movie_id_val):\n",
    "    loaded_graph = tf.Graph()  \n",
    "    with tf.Session(graph=loaded_graph) as sess:  \n",
    "        # Load saved model\n",
    "        loader = tf.train.import_meta_graph(save_dir + '.meta')\n",
    "        loader.restore(sess, save_dir)\n",
    "    \n",
    "        # Get Tensors from loaded model\n",
    "        uid, movie_id, movie_categories, movie_titles, targets, lr, dropout_keep_prob, inference,_ = get_tensors(loaded_graph)  #loaded_graph\n",
    "    \n",
    "        categories = np.zeros([1, 20])\n",
    "        categories[0] = movies.values[movieid2idx[movie_id_val]][2]\n",
    "    \n",
    "        titles = np.zeros([1, sentences_size])\n",
    "        titles[0] = movies.values[movieid2idx[movie_id_val]][1]\n",
    "    \n",
    "        feed = {\n",
    "              uid: np.reshape(ratings.values[user_id_val-1][0], [1, 1]),\n",
    "              movie_id: np.reshape(movies.values[movieid2idx[movie_id_val]][0], [1, 1]),\n",
    "              movie_categories: categories, \n",
    "              movie_titles: titles, \n",
    "              dropout_keep_prob: 1}\n",
    "    \n",
    "        # Get Prediction\n",
    "        inference_val = sess.run([inference], feed)  \n",
    "    \n",
    "        return (inference_val)"
   ]
  },
  {
   "cell_type": "code",
   "execution_count": 23,
   "metadata": {},
   "outputs": [
    {
     "name": "stdout",
     "output_type": "stream",
     "text": [
      "WARNING:tensorflow:From /anaconda3/lib/python3.7/site-packages/tensorflow/python/training/saver.py:1266: checkpoint_exists (from tensorflow.python.training.checkpoint_management) is deprecated and will be removed in a future version.\n",
      "Instructions for updating:\n",
      "Use standard file APIs to check for files with this prefix.\n",
      "INFO:tensorflow:Restoring parameters from ./save\n"
     ]
    },
    {
     "data": {
      "text/plain": [
       "[array([[3.5659926]], dtype=float32)]"
      ]
     },
     "execution_count": 23,
     "metadata": {},
     "output_type": "execute_result"
    }
   ],
   "source": [
    "rating_movie(234, 1401)"
   ]
  },
  {
   "cell_type": "markdown",
   "metadata": {},
   "source": [
    "**Create Movie Matrics**"
   ]
  },
  {
   "cell_type": "code",
   "execution_count": 65,
   "metadata": {},
   "outputs": [
    {
     "name": "stdout",
     "output_type": "stream",
     "text": [
      "INFO:tensorflow:Restoring parameters from ./save\n"
     ]
    }
   ],
   "source": [
    "loaded_graph = tf.Graph()  \n",
    "movie_matrics = []\n",
    "with tf.Session(graph=loaded_graph) as sess:  \n",
    "    # Load saved model\n",
    "    loader = tf.train.import_meta_graph(save_dir + '.meta')\n",
    "    loader.restore(sess, save_dir)\n",
    "\n",
    "    # Get Tensors from loaded model\n",
    "    uid, movie_id, movie_categories, movie_titles, targets, lr, dropout_keep_prob, _, movie_combine_layer_flat = get_tensors(loaded_graph)  #loaded_graph\n",
    "\n",
    "    for item in features:\n",
    "        categories = np.zeros([1, 20])\n",
    "        categories[0] = item.take(3)\n",
    "\n",
    "        titles = np.zeros([1, sentences_size])\n",
    "        titles[0] = item.take(2)\n",
    "\n",
    "        feed = {\n",
    "            uid: np.reshape(item.take(0), [1, 1]),\n",
    "            movie_id: np.reshape(item.take(1), [1, 1]),\n",
    "            movie_categories: categories,\n",
    "            movie_titles: titles, \n",
    "            dropout_keep_prob: 1}\n",
    "\n",
    "        movie_combine_layer_flat_val = sess.run([movie_combine_layer_flat], feed)  \n",
    "        movie_matrics.append(movie_combine_layer_flat_val)\n",
    "\n",
    "pickle.dump((np.array(movie_matrics).reshape(-1, 200)), open('movie_matrics.p', 'wb'))\n",
    "movie_matrics = pickle.load(open('movie_matrics.p', mode='rb'))"
   ]
  },
  {
   "cell_type": "markdown",
   "metadata": {},
   "source": [
    "**Define the Function to Recommend Same Type Movie**"
   ]
  },
  {
   "cell_type": "code",
   "execution_count": 27,
   "metadata": {},
   "outputs": [],
   "source": [
    "def recommend_same_type_movie(movie_id_val, top_k = 20):\n",
    "    \n",
    "    loaded_graph = tf.Graph()  \n",
    "    with tf.Session(graph=loaded_graph) as sess:  \n",
    "        # Load saved model\n",
    "        loader = tf.train.import_meta_graph(save_dir + '.meta')\n",
    "        loader.restore(sess, save_dir)\n",
    "        \n",
    "        norm_movie_matrics = tf.sqrt(tf.reduce_sum(tf.square(movie_matrics), 1, keep_dims=True))\n",
    "        normalized_movie_matrics = movie_matrics / norm_movie_matrics\n",
    "\n",
    "        probs_embeddings = (movie_matrics[movieid2idx[movie_id_val]]).reshape([1, 200])\n",
    "        probs_similarity = tf.matmul(probs_embeddings, tf.transpose(normalized_movie_matrics))\n",
    "        sim = (probs_similarity.eval())\n",
    "        \n",
    "        print()\n",
    "        print(\"The movie you watch：{}\".format(movies_orig[movieid2idx[movie_id_val]]))\n",
    "        print(\"Below is recommendation：\")\n",
    "        p = np.squeeze(sim)\n",
    "        p[np.argsort(p)[:-top_k]] = 0\n",
    "        p = p / np.sum(p)\n",
    "        results = set()\n",
    "        sz = len(p)\n",
    "        while len(results) != 15:\n",
    "            c = np.random.choice(sz, 1, p=p)[0]\n",
    "            results.add(c)\n",
    "        for val in (results):\n",
    "            print(val)\n",
    "            print(movies_orig[val])\n",
    "        \n",
    "        return results"
   ]
  },
  {
   "cell_type": "code",
   "execution_count": 91,
   "metadata": {},
   "outputs": [
    {
     "name": "stdout",
     "output_type": "stream",
     "text": [
      "INFO:tensorflow:Restoring parameters from ./save\n",
      "\n",
      "The movie you watch：[1401 'Ghosts of Mississippi (1996)' 'Drama']\n",
      "Below is recommendation：\n",
      "928\n",
      "[1227 'Once Upon a Time in America (1984)' 'Crime|Drama']\n",
      "1088\n",
      "[1413 'Whole Wide World, The (1996)' 'Drama']\n",
      "866\n",
      "[1144 'Line King: The Al Hirschfeld Story, The (1996)' 'Documentary']\n",
      "995\n",
      "[1297 'Real Genius (1985)' 'Comedy']\n",
      "868\n",
      "[1148 'Wallace & Gromit: The Wrong Trousers (1993)'\n",
      " 'Animation|Children|Comedy|Crime']\n",
      "933\n",
      "[1233 'Boot, Das (Boat, The) (1981)' 'Action|Drama|War']\n",
      "1065\n",
      "[1382 'Marked for Death (1990)' 'Action|Drama']\n",
      "1066\n",
      "[1385 'Under Siege (1992)' 'Action|Drama|Thriller']\n",
      "1035\n",
      "[1347 'Nightmare on Elm Street, A (1984)' 'Horror|Thriller']\n",
      "885\n",
      "[1180 'Hear My Song (1991)' 'Comedy']\n",
      "952\n",
      "[1253 'Day the Earth Stood Still, The (1951)' 'Drama|Sci-Fi|Thriller']\n",
      "920\n",
      "[1219 'Psycho (1960)' 'Crime|Horror']\n",
      "1080\n",
      "[1401 'Ghosts of Mississippi (1996)' 'Drama']\n",
      "1021\n",
      "[1332 'Believers, The (1987)' 'Horror|Thriller']\n",
      "927\n",
      "[1226 'Quiet Man, The (1952)' 'Drama|Romance']\n"
     ]
    },
    {
     "data": {
      "text/plain": [
       "{866,\n",
       " 868,\n",
       " 885,\n",
       " 920,\n",
       " 927,\n",
       " 928,\n",
       " 933,\n",
       " 952,\n",
       " 995,\n",
       " 1021,\n",
       " 1035,\n",
       " 1065,\n",
       " 1066,\n",
       " 1080,\n",
       " 1088}"
      ]
     },
     "execution_count": 91,
     "metadata": {},
     "output_type": "execute_result"
    }
   ],
   "source": [
    "recommend_same_type_movie(1401, 20)"
   ]
  },
  {
   "cell_type": "code",
   "execution_count": 40,
   "metadata": {},
   "outputs": [
    {
     "data": {
      "text/plain": [
       "610"
      ]
     },
     "execution_count": 40,
     "metadata": {},
     "output_type": "execute_result"
    }
   ],
   "source": [
    "user_set = set(features[:,0])\n",
    "len(user_set)"
   ]
  },
  {
   "cell_type": "code",
   "execution_count": 112,
   "metadata": {},
   "outputs": [
    {
     "data": {
      "text/plain": [
       "(100836, 200)"
      ]
     },
     "execution_count": 112,
     "metadata": {},
     "output_type": "execute_result"
    }
   ],
   "source": [
    "movie_matrics = pickle.load(open('movie_matrics.p', mode='rb'))\n",
    "np.shape(movie_matrics)"
   ]
  },
  {
   "cell_type": "markdown",
   "metadata": {},
   "source": [
    "**Create User Matrics--Use Random Matrics**"
   ]
  },
  {
   "cell_type": "code",
   "execution_count": 87,
   "metadata": {},
   "outputs": [
    {
     "name": "stdout",
     "output_type": "stream",
     "text": [
      "INFO:tensorflow:Restoring parameters from ./save\n"
     ]
    }
   ],
   "source": [
    "loaded_graph = tf.Graph()  #\n",
    "with tf.Session(graph=loaded_graph) as sess:  #\n",
    "    # Load saved model\n",
    "    loader = tf.train.import_meta_graph(save_dir + '.meta')\n",
    "    loader.restore(sess, save_dir)\n",
    "    \n",
    "    user_matrics = sess.run(tf.random_uniform([len(user_set),200],-1,1))\n",
    "    #print(np.shape(user_matrics))\n",
    "pickle.dump((np.array(user_matrics).reshape(-1, 200)), open('user_matrics.p', 'wb'))"
   ]
  },
  {
   "cell_type": "code",
   "execution_count": 113,
   "metadata": {},
   "outputs": [
    {
     "data": {
      "text/plain": [
       "(610, 200)"
      ]
     },
     "execution_count": 113,
     "metadata": {},
     "output_type": "execute_result"
    }
   ],
   "source": [
    "user_matrics = pickle.load(open('user_matrics.p', mode='rb'))\n",
    "np.shape(user_matrics)"
   ]
  },
  {
   "cell_type": "markdown",
   "metadata": {},
   "source": [
    "**Map from Movie Id to Movie Name**"
   ]
  },
  {
   "cell_type": "code",
   "execution_count": 275,
   "metadata": {},
   "outputs": [
    {
     "data": {
      "text/plain": [
       "'Treasure Planet (2002)'"
      ]
     },
     "execution_count": 275,
     "metadata": {},
     "output_type": "execute_result"
    }
   ],
   "source": [
    "fid_to_movie = {\n",
    "    fid:''.join(movies_orig[np.where(movies_orig[:,0]==fid),1][0])\n",
    "    for fid in set(features[:,1])\n",
    "}\n",
    "fid_to_movie[features[78371][1]]"
   ]
  },
  {
   "cell_type": "markdown",
   "metadata": {},
   "source": [
    "**Recommend Movie By Movie Id**"
   ]
  },
  {
   "cell_type": "code",
   "execution_count": 276,
   "metadata": {},
   "outputs": [],
   "source": [
    "def recommend_your_favorite_movie(user_id_val, top_k = 10, show = True):\n",
    "\n",
    "    loaded_graph = tf.Graph()  #\n",
    "    with tf.Session(graph=loaded_graph) as sess:  #\n",
    "        # Load saved model\n",
    "        loader = tf.train.import_meta_graph(save_dir + '.meta')\n",
    "        loader.restore(sess, save_dir)\n",
    "\n",
    "        probs_embeddings = (user_matrics[user_id_val-1]).reshape([1, 200])\n",
    "\n",
    "        probs_similarity = tf.matmul(probs_embeddings, tf.transpose(movie_matrics))\n",
    "        sim = (probs_similarity.eval())\n",
    "    \n",
    "        print(\"Your Recommendations：\")\n",
    "        p = np.squeeze(sim)\n",
    "        p[np.argsort(p)[:-top_k]] = 0\n",
    "        p = p / np.sum(p)\n",
    "        results = set()\n",
    "        sz = len(p)\n",
    "        while len(results) != 10:\n",
    "            c = np.random.choice(sz, 1, p=p)[0]\n",
    "            results.add(c)\n",
    "        if(show):\n",
    "            for val in (results):\n",
    "                #print(features[val][1])\n",
    "                print(fid_to_movie[features[val][1]])\n",
    "\n",
    "        return results"
   ]
  },
  {
   "cell_type": "code",
   "execution_count": 277,
   "metadata": {},
   "outputs": [
    {
     "name": "stdout",
     "output_type": "stream",
     "text": [
      "INFO:tensorflow:Restoring parameters from ./save\n",
      "Your Recommendations：\n",
      "Transformers: Dark of the Moon (2011)\n",
      "Treasure Planet (2002)\n",
      "Treasure Planet (2002)\n",
      "Madagascar: Escape 2 Africa (2008)\n",
      "Kung Fu Panda 2 (2011)\n",
      "Treasure Planet (2002)\n",
      "Kung Fu Panda 2 (2011)\n",
      "Spider-Man 2 (2004)\n",
      "Megamind (2010)\n",
      "Spider-Man 2 (2004)\n"
     ]
    },
    {
     "data": {
      "text/plain": [
       "{38441, 38463, 42950, 42953, 67885, 68002, 78371, 78372, 78375, 84420}"
      ]
     },
     "execution_count": 277,
     "metadata": {},
     "output_type": "execute_result"
    }
   ],
   "source": [
    "recommend_your_favorite_movie(1,10)"
   ]
  },
  {
   "cell_type": "markdown",
   "metadata": {},
   "source": [
    "**The Function that Add Key,Value Pairs(UserId,Recommendations) whose user_id from fromIndex to toIndex**"
   ]
  },
  {
   "cell_type": "code",
   "execution_count": 262,
   "metadata": {},
   "outputs": [],
   "source": [
    "def csv_dicts(fromIndex, toIndex, csv_rec, top_k = 5, show = False):\n",
    "\n",
    "    loaded_graph = tf.Graph()\n",
    "    with tf.Session(graph=loaded_graph) as sess:\n",
    "        loader = tf.train.import_meta_graph(save_dir + '.meta')\n",
    "        loader.restore(sess, save_dir)\n",
    "        for user_id_val in range(fromIndex+1,toIndex+1):\n",
    "            probs_embeddings = (user_matrics[user_id_val-1]).reshape([1, 200])\n",
    "            probs_similarity = tf.matmul(probs_embeddings, tf.transpose(movie_matrics))\n",
    "            sim = (probs_similarity.eval())\n",
    "            p = np.squeeze(sim)\n",
    "            p[np.argsort(p)[:-top_k]] = 0\n",
    "            p = np.absolute(p)\n",
    "            p = p / np.sum(p)\n",
    "            results = set()\n",
    "            #print(p)\n",
    "            sz = len(p)\n",
    "            while len(results) != top_k:\n",
    "                c = np.random.choice(sz, 1, p=p)[0]\n",
    "                #print(c)\n",
    "                results.add(c)\n",
    "            csv_rec.update({user_id_val:{features[c][1] for c in results}})            \n",
    "    if(show):\n",
    "        print('Finished')\n",
    "        return csv_rec\n",
    "    else:\n",
    "        return csv_rec"
   ]
  },
  {
   "cell_type": "markdown",
   "metadata": {},
   "source": [
    "### 5. Write Recommendations to CSV\n",
    "**Create Recommendations dict**"
   ]
  },
  {
   "cell_type": "code",
   "execution_count": 265,
   "metadata": {},
   "outputs": [
    {
     "name": "stdout",
     "output_type": "stream",
     "text": [
      "INFO:tensorflow:Restoring parameters from ./save\n",
      "20 lines write...\n",
      "20\n",
      "INFO:tensorflow:Restoring parameters from ./save\n",
      "40 lines write...\n",
      "40\n",
      "INFO:tensorflow:Restoring parameters from ./save\n",
      "60 lines write...\n",
      "60\n",
      "INFO:tensorflow:Restoring parameters from ./save\n",
      "80 lines write...\n",
      "80\n",
      "INFO:tensorflow:Restoring parameters from ./save\n",
      "100 lines write...\n",
      "100\n",
      "INFO:tensorflow:Restoring parameters from ./save\n",
      "120 lines write...\n",
      "120\n",
      "INFO:tensorflow:Restoring parameters from ./save\n",
      "140 lines write...\n",
      "140\n",
      "INFO:tensorflow:Restoring parameters from ./save\n",
      "160 lines write...\n",
      "160\n",
      "INFO:tensorflow:Restoring parameters from ./save\n",
      "180 lines write...\n",
      "180\n",
      "INFO:tensorflow:Restoring parameters from ./save\n",
      "200 lines write...\n",
      "200\n",
      "INFO:tensorflow:Restoring parameters from ./save\n",
      "220 lines write...\n",
      "220\n",
      "INFO:tensorflow:Restoring parameters from ./save\n",
      "240 lines write...\n",
      "240\n",
      "INFO:tensorflow:Restoring parameters from ./save\n",
      "260 lines write...\n",
      "260\n",
      "INFO:tensorflow:Restoring parameters from ./save\n",
      "280 lines write...\n",
      "280\n",
      "INFO:tensorflow:Restoring parameters from ./save\n",
      "300 lines write...\n",
      "300\n",
      "INFO:tensorflow:Restoring parameters from ./save\n",
      "320 lines write...\n",
      "320\n",
      "INFO:tensorflow:Restoring parameters from ./save\n",
      "340 lines write...\n",
      "340\n",
      "INFO:tensorflow:Restoring parameters from ./save\n",
      "360 lines write...\n",
      "360\n",
      "INFO:tensorflow:Restoring parameters from ./save\n",
      "380 lines write...\n",
      "380\n",
      "INFO:tensorflow:Restoring parameters from ./save\n",
      "400 lines write...\n",
      "400\n",
      "INFO:tensorflow:Restoring parameters from ./save\n",
      "420 lines write...\n",
      "420\n",
      "INFO:tensorflow:Restoring parameters from ./save\n",
      "440 lines write...\n",
      "440\n",
      "INFO:tensorflow:Restoring parameters from ./save\n",
      "460 lines write...\n",
      "460\n",
      "INFO:tensorflow:Restoring parameters from ./save\n",
      "480 lines write...\n",
      "480\n",
      "INFO:tensorflow:Restoring parameters from ./save\n",
      "500 lines write...\n",
      "500\n",
      "INFO:tensorflow:Restoring parameters from ./save\n",
      "520 lines write...\n",
      "520\n",
      "INFO:tensorflow:Restoring parameters from ./save\n",
      "540 lines write...\n",
      "540\n",
      "INFO:tensorflow:Restoring parameters from ./save\n",
      "560 lines write...\n",
      "560\n",
      "INFO:tensorflow:Restoring parameters from ./save\n",
      "580 lines write...\n",
      "580\n",
      "INFO:tensorflow:Restoring parameters from ./save\n",
      "600 lines write...\n",
      "600\n"
     ]
    }
   ],
   "source": [
    "csv_file = {}\n",
    "for i in range(len(user_set)//20):\n",
    "    if(i*20+20<len(user_set)):\n",
    "        csv_dicts(i*20,i*20+20,csv_file)\n",
    "        print(str(i*20+20)+' lines write...')\n",
    "        print(len(csv_file))\n",
    "    else:\n",
    "        csv_dicts(i*20,len(user_set),csv_file)\n",
    "        print('complete...')"
   ]
  },
  {
   "cell_type": "code",
   "execution_count": 268,
   "metadata": {
    "scrolled": true
   },
   "outputs": [
    {
     "name": "stdout",
     "output_type": "stream",
     "text": [
      "INFO:tensorflow:Restoring parameters from ./save\n"
     ]
    },
    {
     "data": {
      "text/plain": [
       "{1: {5882, 8636, 81564},\n",
       " 2: {485, 2683, 79702},\n",
       " 3: {69526, 106487, 112175, 122898},\n",
       " 4: {72165, 79702},\n",
       " 5: {595},\n",
       " 6: {314, 1345, 5065, 5418},\n",
       " 7: {1022, 1380, 2273, 2724, 140711},\n",
       " 8: {64167, 67408, 71484, 102720, 139644},\n",
       " 9: {188, 904, 2291, 4874, 47610},\n",
       " 10: {2139, 26662, 27706, 134853},\n",
       " 11: {22, 1809, 2395, 4205, 97172},\n",
       " 12: {47404, 58404, 119145, 122886},\n",
       " 13: {783, 1022, 84944},\n",
       " 14: {2149, 3355},\n",
       " 15: {314, 5419, 6902, 180031},\n",
       " 16: {1265, 1912, 79702, 93840},\n",
       " 17: {711, 95167},\n",
       " 18: {432, 2657, 7123, 71550},\n",
       " 19: {432, 58404},\n",
       " 20: {1136, 2797, 2987},\n",
       " 21: {1688, 68954},\n",
       " 22: {33794, 95510, 102445, 104841},\n",
       " 23: {7099},\n",
       " 24: {6934, 8636, 33679, 56174, 85261},\n",
       " 25: {150, 337, 508, 590, 2687},\n",
       " 26: {595, 631, 1171, 4831, 6125},\n",
       " 27: {208, 610, 3793, 5507, 34150},\n",
       " 28: {2701, 2879, 81132},\n",
       " 29: {610, 57504, 69644},\n",
       " 30: {22, 188, 2023},\n",
       " 31: {72998, 91529},\n",
       " 32: {60074},\n",
       " 33: {5882, 57504, 87222},\n",
       " 34: {1339, 1345, 1835},\n",
       " 35: {595, 1464},\n",
       " 36: {314, 2414},\n",
       " 37: {1136, 2097, 3812, 5008},\n",
       " 38: {64957},\n",
       " 39: {930, 1321, 6550, 101362},\n",
       " 40: {314},\n",
       " 41: {364, 595, 5218, 7756, 95105},\n",
       " 42: {527, 1233, 5690, 6987},\n",
       " 43: {1993, 2149, 36401, 79702, 81132},\n",
       " 44: {1064, 2097, 3355, 81132},\n",
       " 45: {31101, 33437, 64614, 140711},\n",
       " 46: {466, 3868, 61132},\n",
       " 47: {380, 2617},\n",
       " 48: {62999, 84944, 87222},\n",
       " 49: {2092, 2987, 52462},\n",
       " 50: {2090, 2761, 68954, 79132},\n",
       " 51: {1784, 42422, 64993},\n",
       " 52: {47610, 130050},\n",
       " 53: {8917},\n",
       " 54: {2683, 8961, 62999},\n",
       " 55: {2006, 26183, 84944},\n",
       " 56: {2023, 4720, 48780, 81132},\n",
       " 57: {1127, 1544, 1909, 5378, 60069},\n",
       " 58: {8253, 44191, 106487, 122912},\n",
       " 59: {2006, 57504},\n",
       " 60: {2890, 81132},\n",
       " 61: {432, 2012},\n",
       " 62: {3681, 6753, 43419},\n",
       " 63: {165, 288, 1377},\n",
       " 64: {2001, 7262, 62999, 119145},\n",
       " 65: {2761, 5389, 6333},\n",
       " 66: {380, 708, 1249},\n",
       " 67: {2363, 2648, 3676, 4826},\n",
       " 68: {908, 7123, 27317},\n",
       " 69: {293, 6373, 7657, 71899},\n",
       " 70: {546, 1215, 6539, 79702},\n",
       " 71: {1073, 1252, 1464, 32587},\n",
       " 72: {2085, 2687, 2899, 32515},\n",
       " 73: {350, 4720, 26887, 43932, 70159},\n",
       " 74: {594, 7099},\n",
       " 75: {70, 1200, 2054, 4232},\n",
       " 76: {2890, 109673},\n",
       " 77: {8253, 37830, 106487},\n",
       " 78: {531, 1097, 32728, 151687},\n",
       " 79: {58559, 79132, 89745, 95510},\n",
       " 80: {1717, 2699, 27584, 47937, 86295},\n",
       " 81: {367, 6378, 32019},\n",
       " 82: {3868},\n",
       " 83: {1544, 62999, 91529},\n",
       " 84: {1805, 3386, 6281, 27397},\n",
       " 85: {48, 2138, 3168, 65261},\n",
       " 86: {87, 432, 708, 1376, 4299},\n",
       " 87: {364, 2687, 4006},\n",
       " 88: {355, 1302, 1707, 7137, 56782},\n",
       " 89: {432, 3868},\n",
       " 90: {1282, 1345, 2018, 2138},\n",
       " 91: {1233, 4826, 6377, 105121, 108540},\n",
       " 92: {5444, 68954},\n",
       " 93: {314},\n",
       " 94: {44, 1228, 1242, 1394, 3016},\n",
       " 95: {3104, 3836, 8169, 140711},\n",
       " 96: {3210},\n",
       " 97: {2090, 2355, 4006, 6659},\n",
       " 98: {2355, 84944},\n",
       " 99: {420, 4299, 6539, 6564},\n",
       " 100: {1513, 2953, 3438, 3624, 4161},\n",
       " 101: {70, 1281, 7004},\n",
       " 102: {661, 1022, 4446, 102720},\n",
       " 103: {788},\n",
       " 104: {72998, 77561, 103249, 110127},\n",
       " 105: {6966, 42718, 60074, 79702},\n",
       " 106: {1197, 1375, 2617, 6333},\n",
       " 107: {708, 2657, 5299, 45732, 60950},\n",
       " 108: {29, 48780, 130050},\n",
       " 109: {800, 1464, 1799},\n",
       " 110: {48, 7831, 26701, 57504},\n",
       " 111: {3758, 4995, 44191},\n",
       " 112: {3081, 8482, 64957},\n",
       " 113: {1199, 48780, 52328, 101088},\n",
       " 114: {2139, 2384, 4090, 31193},\n",
       " 115: {49530},\n",
       " 116: {48, 198, 2987, 26701},\n",
       " 117: {5433, 7099},\n",
       " 118: {4874, 5065, 72104},\n",
       " 119: {3798, 27563, 36401, 51709},\n",
       " 120: {2097, 5065},\n",
       " 121: {3836, 7657, 47937, 81132, 86295},\n",
       " 122: {1809, 2899, 3081, 25788, 27397},\n",
       " 123: {293, 74510, 114246},\n",
       " 124: {1196, 1376, 122886},\n",
       " 125: {1136, 2613, 2722, 2735, 3175},\n",
       " 126: {3868, 4084, 7325},\n",
       " 127: {1739, 2879, 6548, 69644},\n",
       " 128: {2722, 27692, 45431, 81132},\n",
       " 129: {185, 4291, 6663, 6874},\n",
       " 130: {2355, 7099},\n",
       " 131: {169, 888, 1688, 5008, 7059},\n",
       " 132: {44, 367, 2899, 95167},\n",
       " 133: {1278},\n",
       " 134: {6902, 7123, 26849, 168090},\n",
       " 135: {838, 2793, 46976},\n",
       " 136: {52287, 81132, 84944},\n",
       " 137: {1200, 2355, 4006},\n",
       " 138: {2054, 2338, 2735},\n",
       " 139: {1464},\n",
       " 140: {1327, 4789, 51709, 79702},\n",
       " 141: {724, 5065},\n",
       " 142: {708},\n",
       " 143: {5882},\n",
       " 144: {1291, 2628},\n",
       " 145: {596, 780, 2414, 6350},\n",
       " 146: {953, 5804, 8464, 64957},\n",
       " 147: {673, 1688, 2761, 134853},\n",
       " 148: {2687, 60069, 135887, 147378},\n",
       " 149: {8253, 81132, 81564},\n",
       " 150: {680, 4720, 26887},\n",
       " 151: {1, 3054},\n",
       " 152: {6214, 7099, 26631},\n",
       " 153: {1200, 2028, 2138, 2366, 2761},\n",
       " 154: {1200},\n",
       " 155: {688, 6539},\n",
       " 156: {783, 64957, 64993},\n",
       " 157: {160, 208, 8644},\n",
       " 158: {103249},\n",
       " 159: {296, 1464, 3210},\n",
       " 160: {610, 7099, 8253},\n",
       " 161: {3681, 59784},\n",
       " 162: {293, 2085, 104141},\n",
       " 163: {84944},\n",
       " 164: {930, 4878, 74545},\n",
       " 165: {858, 4903},\n",
       " 166: {1327, 1345, 2819, 4878, 5433},\n",
       " 167: {266},\n",
       " 168: {34, 225, 61236},\n",
       " 169: {148, 364, 668, 1250},\n",
       " 170: {4299, 69644, 79702, 81132},\n",
       " 171: {1197, 8253},\n",
       " 172: {4446, 4993, 7099, 98203, 168090},\n",
       " 173: {4226, 51925, 70286, 105653},\n",
       " 174: {70, 1197, 2701, 81132},\n",
       " 175: {1197, 1408, 4719},\n",
       " 176: {150, 1200, 2012},\n",
       " 177: {1073, 79702},\n",
       " 178: {5952, 7099},\n",
       " 179: {6333},\n",
       " 180: {923, 63312, 139644},\n",
       " 181: {410, 2793},\n",
       " 182: {7099, 7123, 148978},\n",
       " 183: {1200, 2054, 96691},\n",
       " 184: {1029, 2138, 3508, 85736, 109673},\n",
       " 185: {1028, 2065, 64957, 72407, 120138},\n",
       " 186: {5008, 99149},\n",
       " 187: {170, 1429, 2344},\n",
       " 188: {4878, 47610, 60684},\n",
       " 189: {1468, 5296, 6365, 34162, 140561},\n",
       " 190: {1269, 1784},\n",
       " 191: {3355, 4878, 34532, 48780, 60941},\n",
       " 192: {1372, 37830, 47404},\n",
       " 193: {1242, 53953, 107436, 139655},\n",
       " 194: {29, 7099, 88125},\n",
       " 195: {95, 44191, 76093},\n",
       " 196: {256, 1270, 1333, 2265, 3697},\n",
       " 197: {587, 1197, 4428, 81132},\n",
       " 198: {2076, 2533, 26681, 147378},\n",
       " 199: {2, 33794},\n",
       " 200: {380, 26776},\n",
       " 201: {5952, 41566, 47261},\n",
       " 202: {2002, 3264, 4025, 43419},\n",
       " 203: {54997, 84944, 95167},\n",
       " 204: {44, 318, 102194, 130520},\n",
       " 205: {112, 260, 8253, 136864},\n",
       " 206: {551, 2355, 2857},\n",
       " 207: {6934, 33794},\n",
       " 208: {2273, 102033},\n",
       " 209: {829, 4789},\n",
       " 210: {198, 1464},\n",
       " 211: {8360, 33794},\n",
       " 212: {2363, 3798, 34532, 105801, 149011},\n",
       " 213: {3745, 33794, 81564, 104141},\n",
       " 214: {551, 631, 3000, 6953},\n",
       " 215: {6333, 8118},\n",
       " 216: {1464},\n",
       " 217: {1278, 1619, 1967, 5949, 49530},\n",
       " 218: {2617, 61132},\n",
       " 219: {367, 54999, 106785, 134368},\n",
       " 220: {185, 6378, 8961, 54997, 84944},\n",
       " 221: {251, 420, 3740, 5155},\n",
       " 222: {631, 7099},\n",
       " 223: {94, 3037, 3990, 6306, 8810},\n",
       " 224: {647, 103249, 106487, 109673},\n",
       " 225: {3868, 4238, 6378, 6539},\n",
       " 226: {2005, 2355},\n",
       " 227: {314, 364, 2712, 27904},\n",
       " 228: {1544, 88140},\n",
       " 229: {1912, 2746, 3081, 26887, 130050},\n",
       " 230: {1029, 1385, 5791},\n",
       " 231: {33794, 102445},\n",
       " 232: {6300, 33794},\n",
       " 233: {595, 5445, 31086, 74510, 114246},\n",
       " 234: {129, 1265, 2065, 6711},\n",
       " 235: {19, 1215, 1516, 5816},\n",
       " 236: {724, 1345, 2097, 5065},\n",
       " 237: {930, 6548, 37729},\n",
       " 238: {2683, 8024, 51545},\n",
       " 239: {1408, 4299},\n",
       " 240: {364, 5954, 8656, 85736, 110102},\n",
       " 241: {673, 60069},\n",
       " 242: {295, 1464, 3270, 108078, 116799},\n",
       " 243: {829, 1060, 5507, 6049, 98585},\n",
       " 244: {1408, 6548, 44191, 168248},\n",
       " 245: {8368, 91529},\n",
       " 246: {1408, 3868, 54997},\n",
       " 247: {2414, 41566},\n",
       " 248: {2355, 4720, 69275, 72407},\n",
       " 249: {485, 2012, 2142, 3070, 6539},\n",
       " 250: {260, 750, 5541, 6365, 106487},\n",
       " 251: {829, 1073, 1191, 1199, 2968},\n",
       " 252: {647, 1644, 6537, 106487},\n",
       " 253: {293, 1125, 54997, 68205},\n",
       " 254: {129, 40581, 53996, 58047, 155509},\n",
       " 255: {159, 5630, 6214, 79132},\n",
       " 256: {353, 1464, 32587},\n",
       " 257: {150, 1358, 140715},\n",
       " 258: {543, 6104, 7728},\n",
       " 259: {2016, 2953, 27706},\n",
       " 260: {1408, 49530, 84944},\n",
       " 261: {410, 2097, 2819, 3176},\n",
       " 262: {3798, 26887, 47610},\n",
       " 263: {1464},\n",
       " 264: {3868},\n",
       " 265: {539, 3798, 129354},\n",
       " 266: {613, 1464, 2020, 72737},\n",
       " 267: {364},\n",
       " 268: {588, 2687, 68954},\n",
       " 269: {1274, 89745, 106487},\n",
       " 270: {1029, 5971, 96832},\n",
       " 271: {788, 2054, 71999, 72737},\n",
       " 272: {314, 594, 56757, 71033},\n",
       " 273: {8730, 57528, 114662, 174055},\n",
       " 274: {876, 1249, 2278, 7004, 33893},\n",
       " 275: {27683, 51545, 81132, 116668},\n",
       " 276: {631, 1025, 1282},\n",
       " 277: {236, 4802, 5541},\n",
       " 278: {2657, 3273, 36401, 130050},\n",
       " 279: {300, 50872},\n",
       " 280: {314, 6373},\n",
       " 281: {2683, 170939},\n",
       " 282: {688, 908, 27793, 46965, 55116},\n",
       " 283: {3104, 43419, 58559, 91529},\n",
       " 284: {79702},\n",
       " 285: {1282, 2023, 2139},\n",
       " 286: {70, 1261, 2617},\n",
       " 287: {198, 293, 79132},\n",
       " 288: {2657},\n",
       " 289: {610, 2761, 8961},\n",
       " 290: {2138, 2687, 59315},\n",
       " 291: {1717, 1923, 46965},\n",
       " 292: {7325, 32009, 144606},\n",
       " 293: {22, 1407, 4719, 81132},\n",
       " 294: {8636, 51709, 106487},\n",
       " 295: {318, 2762, 47610, 72407},\n",
       " 296: {60161, 69644, 88140},\n",
       " 297: {1125, 4291, 79702},\n",
       " 298: {1784, 54190, 55451, 56941},\n",
       " 299: {2194, 54997, 59784, 139644},\n",
       " 300: {1464},\n",
       " 301: {600, 4299, 4518, 4802, 33679},\n",
       " 302: {1408, 4980, 26142, 88140},\n",
       " 303: {2085, 7099, 31658, 60069},\n",
       " 304: {838, 3479, 5127, 97172},\n",
       " 305: {6300, 6378, 102716},\n",
       " 306: {44, 150, 88140, 101864, 126430},\n",
       " 307: {314, 2018, 2116, 93208, 175293},\n",
       " 308: {3868},\n",
       " 309: {1345, 4720, 5065, 112556},\n",
       " 310: {1527, 2701, 2890, 59315, 61132},\n",
       " 311: {55167, 84944, 87222},\n",
       " 312: {79702},\n",
       " 313: {112, 153},\n",
       " 314: {364, 1688, 2899},\n",
       " 315: {31, 613, 838, 5377},\n",
       " 316: {3868},\n",
       " 317: {62999, 87222, 109673},\n",
       " 318: {2338, 4995, 7382},\n",
       " 319: {79702},\n",
       " 320: {70, 2657},\n",
       " 321: {112, 899, 4042},\n",
       " 322: {4446, 4993, 5952, 118696},\n",
       " 323: {22, 159, 364, 1464, 106696},\n",
       " 324: {112, 432, 72165, 79702},\n",
       " 325: {48, 1033, 64993, 68954},\n",
       " 326: {4306, 60069, 84944},\n",
       " 327: {1200, 61132, 71535, 155509},\n",
       " 328: {79702},\n",
       " 329: {1376, 95510, 103253},\n",
       " 330: {1197, 69644, 77561, 84944},\n",
       " 331: {1390, 1582, 1722, 2294},\n",
       " 332: {86644, 91529},\n",
       " 333: {2001, 134853},\n",
       " 334: {2162, 4238, 33493, 33681},\n",
       " 335: {2859, 3910, 4936, 4963, 5364},\n",
       " 336: {1197, 6564, 88140},\n",
       " 337: {47404, 106696},\n",
       " 338: {4638, 6934, 61240, 84954, 85056},\n",
       " 339: {1200, 1233, 2355},\n",
       " 340: {2722, 6548},\n",
       " 341: {47, 3115, 3676, 30749},\n",
       " 342: {750, 2879, 6539, 93510},\n",
       " 343: {367, 1278, 1408, 81564, 98623},\n",
       " 344: {62999, 84944, 91529, 106487},\n",
       " 345: {2916, 8644, 60069},\n",
       " 346: {5882},\n",
       " 347: {2422, 3075, 5065, 5219, 103228},\n",
       " 348: {153, 1377, 107436},\n",
       " 349: {266, 595, 64993, 81132},\n",
       " 350: {2194, 58559, 111659},\n",
       " 351: {47610, 79702},\n",
       " 352: {7099, 58404, 76093},\n",
       " 353: {1291, 2701, 84944, 130520},\n",
       " 354: {364},\n",
       " 355: {2009, 4720, 26693},\n",
       " 356: {1197, 3070, 81132},\n",
       " 357: {70, 2617, 5541},\n",
       " 358: {364, 1688, 89745, 95167},\n",
       " 359: {1197, 2987, 3868, 6539, 53125},\n",
       " 360: {432},\n",
       " 361: {314, 2097},\n",
       " 362: {68954, 81132, 103249},\n",
       " 363: {48, 2384, 4896, 95738},\n",
       " 364: {6, 288, 296, 4011},\n",
       " 365: {2160, 2176, 3178, 53127},\n",
       " 366: {260, 8636, 110553, 122920},\n",
       " 367: {26631, 47610, 112512},\n",
       " 368: {356, 788, 1784, 155509},\n",
       " 369: {366, 2097, 2184, 2940, 3113},\n",
       " 370: {64957, 64993},\n",
       " 371: {63859, 84944, 95167},\n",
       " 372: {5882},\n",
       " 373: {1377, 6378, 49530, 104141},\n",
       " 374: {5378, 6537, 33493, 69526},\n",
       " 375: {1784, 3210, 3358, 38061, 71550},\n",
       " 376: {968, 1200, 5502},\n",
       " 377: {5882},\n",
       " 378: {2142, 2859, 5989},\n",
       " 379: {2048, 5882},\n",
       " 380: {2273, 3624},\n",
       " 381: {22, 1407, 1464, 4789},\n",
       " 382: {2735, 3868, 60522},\n",
       " 383: {587},\n",
       " 384: {106487},\n",
       " 385: {1274, 91529},\n",
       " 386: {26887, 31696, 43932, 96832, 130050},\n",
       " 387: {81564},\n",
       " 388: {1282, 1339, 1967, 4902, 26693},\n",
       " 389: {3745, 8961},\n",
       " 390: {647, 6753, 79224, 106642},\n",
       " 391: {364, 2142, 2761},\n",
       " 392: {1249, 2054, 7325, 79702},\n",
       " 393: {49530, 81564},\n",
       " 394: {260, 2142, 5378},\n",
       " 395: {1619, 3406, 7118},\n",
       " 396: {3788, 5388, 5506, 90866},\n",
       " 397: {2338, 5428, 6951, 60289, 83134},\n",
       " 398: {590, 1258, 1303},\n",
       " 399: {70, 380, 2617, 3438},\n",
       " 400: {70, 81132},\n",
       " 401: {165, 2116, 2687, 112006},\n",
       " 402: {112, 432, 2879},\n",
       " 403: {1917, 31804, 43932, 81132, 140711},\n",
       " 404: {60, 56171, 106785},\n",
       " 405: {2940, 3273, 27683, 51545, 83349},\n",
       " 406: {314, 130050},\n",
       " 407: {84944, 130520},\n",
       " 408: {5433, 70159, 74685},\n",
       " 409: {1009, 1278, 6790, 48738},\n",
       " 410: {79702},\n",
       " 411: {2012, 2054, 8636, 33493, 59315},\n",
       " 412: {1271, 2186, 81132},\n",
       " 413: {22, 31, 2648, 3081, 3572},\n",
       " 414: {3113, 5065, 60069, 81132},\n",
       " 415: {5882, 6350, 89745, 91529},\n",
       " 416: {364, 5690, 61236, 68954},\n",
       " 417: {1321, 2338, 3355, 3706},\n",
       " 418: {594, 7099},\n",
       " 419: {181, 59501},\n",
       " 420: {3798, 4720},\n",
       " 421: {57504, 60161, 69644},\n",
       " 422: {1215, 2149, 79702, 170827},\n",
       " 423: {87222, 87520, 106487},\n",
       " 424: {1196, 1405, 4446},\n",
       " 425: {2987, 69844},\n",
       " 426: {29, 1215, 43932},\n",
       " 427: {2338, 3448, 4321, 56782},\n",
       " 428: {1282, 2541, 158830},\n",
       " 429: {731, 1083, 1278, 4789},\n",
       " 430: {1007, 5804, 64957},\n",
       " 431: {70, 2324},\n",
       " 432: {84944, 135456},\n",
       " 433: {791, 1147, 1717, 1995, 3978},\n",
       " 434: {3868, 4084},\n",
       " 435: {594},\n",
       " 436: {57504, 64993, 69644},\n",
       " 437: {293, 1408, 81132, 109673},\n",
       " 438: {3868, 79702, 81132},\n",
       " 439: {165, 1321, 4008, 26875, 69481},\n",
       " 440: {159, 432, 3788, 97752},\n",
       " 441: {1464, 4874, 102903, 139644},\n",
       " 442: {47610, 64957, 69844, 168090},\n",
       " 443: {3798},\n",
       " 444: {1580, 5156, 6662},\n",
       " 445: {3703, 6333, 71205, 140711},\n",
       " 446: {1189, 7932, 46850, 53894},\n",
       " 447: {69526, 87520, 103228},\n",
       " 448: {1269, 3355, 86295},\n",
       " 449: {432, 26776, 36477, 147196},\n",
       " 450: {1769, 2001, 5010, 68157},\n",
       " 451: {1284, 2706, 6954, 54997},\n",
       " 452: {6934, 46530, 52722},\n",
       " 453: {91529},\n",
       " 454: {1616, 2989, 122920},\n",
       " 455: {1408, 1784},\n",
       " 456: {2841, 3386, 6281, 56757},\n",
       " 457: {161, 356, 6428, 51545},\n",
       " 458: {3704, 41566, 98203, 147378},\n",
       " 459: {70, 1321, 2793, 79702},\n",
       " 460: {1730, 4239, 63082},\n",
       " 461: {1223, 3868, 4238, 26701},\n",
       " 462: {595, 1464, 7099, 79132},\n",
       " 463: {3418, 58559},\n",
       " 464: {1408},\n",
       " 465: {1912, 5891, 6987},\n",
       " 466: {70, 87, 3264, 3268, 26413},\n",
       " 467: {60, 1291, 2105, 2414},\n",
       " 468: {6711, 8360, 60069, 87222},\n",
       " 469: {1544, 37830, 136864},\n",
       " 470: {1464, 33794},\n",
       " 471: {1464, 3081, 5065, 26887, 130050},\n",
       " 472: {1269, 3681, 6934, 56174, 94777},\n",
       " 473: {2890, 2944, 3977, 68157},\n",
       " 474: {1064, 4299, 64957, 79702},\n",
       " 475: {70, 6503, 62956},\n",
       " 476: {153, 165, 420, 3868},\n",
       " 477: {7099},\n",
       " 478: {1064, 2657, 3081, 64957},\n",
       " 479: {750, 3681},\n",
       " 480: {2097, 72407},\n",
       " 481: {62999, 85261, 87222},\n",
       " 482: {2987, 71033},\n",
       " 483: {3386, 51925, 84601},\n",
       " 484: {1130, 1345, 2762, 3798, 4833},\n",
       " 485: {1200, 2355, 84944},\n",
       " 486: {1909},\n",
       " 487: {969, 51662, 94777, 106696},\n",
       " 488: {1464, 2065, 26887, 47610},\n",
       " 489: {5882, 108090},\n",
       " 490: {353, 367, 935, 2622, 8796},\n",
       " 491: {2138, 2987, 7099, 7123},\n",
       " 492: {314, 2138, 4902, 26662},\n",
       " 493: {266, 1464, 81132},\n",
       " 494: {150, 58559, 85342, 103253},\n",
       " 495: {260, 110102},\n",
       " 496: {77561, 135456},\n",
       " 497: {84944, 91529},\n",
       " 498: {858},\n",
       " 499: {594, 1025, 2090, 2139, 2687},\n",
       " 500: {2761, 3745, 60069},\n",
       " 501: {1005, 2082},\n",
       " 502: {2699, 2747, 3565, 3798},\n",
       " 503: {1018, 3988, 32587},\n",
       " 504: {165, 2948, 7569, 53972},\n",
       " 505: {2587, 6428, 81132, 96448, 118572},\n",
       " 506: {587, 4902},\n",
       " 507: {600, 750, 27008, 53022, 98623},\n",
       " 508: {688, 1562, 2701, 88140},\n",
       " 509: {2097, 43932},\n",
       " 510: {63, 6378, 86892, 114246},\n",
       " 511: {442, 610, 1200, 79132},\n",
       " 512: {37729, 81847},\n",
       " 513: {1464, 6266, 27808, 48780},\n",
       " 514: {6, 173, 2692, 5423, 33158},\n",
       " 515: {2692, 43419, 80219},\n",
       " 516: {1407},\n",
       " 517: {364, 2987, 81132, 88125},\n",
       " 518: {788, 2657, 6902, 31804},\n",
       " 519: {358, 524, 1213, 3949, 6856},\n",
       " 520: {37729, 106696},\n",
       " 521: {150, 1345, 3735, 5810},\n",
       " 522: {364, 594},\n",
       " 523: {5065, 27317, 36533},\n",
       " 524: {52462, 69644, 130518},\n",
       " 525: {26183, 63859, 84944, 152081},\n",
       " 526: {72998, 91529},\n",
       " 527: {7046, 45732, 79702, 132422},\n",
       " 528: {1031, 2989, 73854, 98243},\n",
       " 529: {22, 4446, 5377, 61236},\n",
       " 530: {1136, 3018, 142444},\n",
       " 531: {1291, 91529},\n",
       " 532: {432, 543, 7033},\n",
       " 533: {432, 6350, 7099, 60069},\n",
       " 534: {165, 146024},\n",
       " 535: {1909, 5445, 26701},\n",
       " 536: {60069},\n",
       " 537: {1025, 1282},\n",
       " 538: {1408, 2701, 84944},\n",
       " 539: {2916, 8985, 87232, 164226},\n",
       " 540: {165, 69644},\n",
       " 541: {1265, 1464, 7099, 31658, 37729},\n",
       " 542: {366, 2654, 3113, 85788},\n",
       " 543: {708, 1064, 2657, 8044, 37729},\n",
       " 544: {5478, 40339, 84944},\n",
       " 545: {2085, 3745, 60069},\n",
       " 546: {4502, 6874, 32587, 32632, 98623},\n",
       " 547: {2657, 3264, 83349},\n",
       " 548: {688, 2722, 6428, 27692, 51545},\n",
       " 549: {5418},\n",
       " 550: {165, 84944, 88140, 122904, 135569},\n",
       " 551: {367, 3710, 6503, 7325},\n",
       " 552: {22, 2090, 2648, 81564},\n",
       " 553: {539, 3210, 71156, 81132},\n",
       " 554: {1197, 6564, 79702},\n",
       " 555: {3798},\n",
       " 556: {29, 6902, 52462, 148978},\n",
       " 557: {27904, 60069, 132046},\n",
       " 558: {1278, 1562, 32022},\n",
       " 559: {552, 2701, 53022},\n",
       " 560: {587, 838},\n",
       " 561: {1089, 1270, 4499, 8607},\n",
       " 562: {46530, 59784, 91529},\n",
       " 563: {160, 1711, 89745, 120827, 139644},\n",
       " 564: {2324},\n",
       " 565: {4720, 26887, 101088, 112421},\n",
       " 566: {165, 6709, 96004},\n",
       " 567: {2683, 2879},\n",
       " 568: {3868, 4299, 51545},\n",
       " 569: {314, 2097, 6273},\n",
       " 570: {451, 1464, 8983, 71033, 88125},\n",
       " 571: {70, 3624, 5541},\n",
       " 572: {5882, 72998},\n",
       " 573: {364, 97752, 106696},\n",
       " 574: {4776, 5875, 27397, 115569},\n",
       " 575: {370, 750, 2001, 3836, 27692},\n",
       " 576: {432, 2097, 2657},\n",
       " 577: {3370, 44191, 97304, 112556, 133419},\n",
       " 578: {2879, 3868},\n",
       " 579: {631, 60074},\n",
       " 580: {6548, 32587},\n",
       " 581: {112},\n",
       " 582: {5378, 62999},\n",
       " 583: {1917, 3696},\n",
       " 584: {6, 1380, 2874, 4498},\n",
       " 585: {1282, 2138},\n",
       " 586: {165, 1291},\n",
       " 587: {661, 2857, 3000, 7304},\n",
       " 588: {37729, 79702, 106696},\n",
       " 589: {648, 1967, 48780, 79132},\n",
       " 590: {1073, 5820, 47610, 66097, 71462},\n",
       " 591: {1196, 63433},\n",
       " 592: {22},\n",
       " 593: {410, 1028, 2054, 5419, 6624},\n",
       " 594: {1029, 1464, 7099},\n",
       " 595: {2338, 26662, 111659},\n",
       " 596: {2011, 58404, 72737},\n",
       " 597: {4103, 59784, 63859},\n",
       " 598: {47},\n",
       " 599: {1206, 50068, 55069},\n",
       " 600: {52722, 72998, 89745, 106487},\n",
       " 601: {1197, 77561},\n",
       " 602: {551, 2097, 3113, 34162, 44555},\n",
       " 603: {595, 1464, 79132},\n",
       " 604: {1197, 146024},\n",
       " 605: {368, 968, 2724, 103253},\n",
       " 606: {923, 47099, 74727, 146028, 147286},\n",
       " 607: {48, 594, 1029, 5971},\n",
       " 608: {5882, 60069},\n",
       " 609: {520, 3238, 4214, 4386, 90384},\n",
       " 610: {370, 380, 552, 176101}}"
      ]
     },
     "execution_count": 268,
     "metadata": {},
     "output_type": "execute_result"
    }
   ],
   "source": [
    "csv_dicts(600,len(user_set),csv_file)"
   ]
  },
  {
   "cell_type": "markdown",
   "metadata": {},
   "source": [
    "**Write the Dict to CSV File**"
   ]
  },
  {
   "cell_type": "code",
   "execution_count": 266,
   "metadata": {},
   "outputs": [],
   "source": [
    "def write_recommendation_csv(fileName, csv_rec):\n",
    "    with open(fileName,'wb') as f:\n",
    "        f.write(str('USER,RECOMMENDATION\\n').encode(\"utf-8\"))\n",
    "        for ur,rst in csv_rec.items():\n",
    "            f.write((str(ur)+',').encode(\"utf-8\"))\n",
    "            if len(rst)==1:\n",
    "                for index, every in enumerate(rst):\n",
    "                    f.write(('[\\''+str(every)+'\\']\\n').encode(\"utf-8\"))\n",
    "                continue\n",
    "            for index, every in enumerate(rst):\n",
    "                if(index==0):\n",
    "                    f.write(('[\\''+str(every)+'\\',').encode(\"utf-8\"))\n",
    "                elif(index!=len(rst)-1):\n",
    "                    f.write(('\\''+str(every)+'\\',').encode(\"utf-8\"))\n",
    "                else:\n",
    "                    f.write(('\\''+str(every)+'\\']\\n').encode(\"utf-8\"))\n",
    "    print(fileName+' Complete Writing')"
   ]
  },
  {
   "cell_type": "code",
   "execution_count": 269,
   "metadata": {},
   "outputs": [
    {
     "name": "stdout",
     "output_type": "stream",
     "text": [
      "610\n",
      "./recommendations.csv Complete Writing\n"
     ]
    }
   ],
   "source": [
    "print(len(csv_file))\n",
    "write_recommendation_csv('./recommendations.csv', csv_file)"
   ]
  },
  {
   "cell_type": "code",
   "execution_count": 270,
   "metadata": {},
   "outputs": [
    {
     "data": {
      "text/plain": [
       "array({1: {5882, 8636, 81564}, 2: {2683, 485, 79702}, 3: {122898, 106487, 69526, 112175}, 4: {72165, 79702}, 5: {595}, 6: {1345, 5065, 5418, 314}, 7: {2273, 1380, 2724, 140711, 1022}, 8: {102720, 71484, 64167, 67408, 139644}, 9: {904, 4874, 2291, 47610, 188}, 10: {27706, 2139, 134853, 26662}, 11: {4205, 1809, 97172, 22, 2395}, 12: {58404, 119145, 47404, 122886}, 13: {84944, 1022, 783}, 14: {3355, 2149}, 15: {314, 5419, 6902, 180031}, 16: {1912, 1265, 93840, 79702}, 17: {95167, 711}, 18: {432, 2657, 7123, 71550}, 19: {432, 58404}, 20: {1136, 2987, 2797}, 21: {1688, 68954}, 22: {104841, 33794, 102445, 95510}, 23: {7099}, 24: {85261, 56174, 33679, 6934, 8636}, 25: {590, 337, 150, 508, 2687}, 26: {6125, 595, 1171, 631, 4831}, 27: {610, 5507, 34150, 208, 3793}, 28: {81132, 2701, 2879}, 29: {57504, 610, 69644}, 30: {188, 22, 2023}, 31: {91529, 72998}, 32: {60074}, 33: {57504, 5882, 87222}, 34: {1345, 1835, 1339}, 35: {1464, 595}, 36: {314, 2414}, 37: {1136, 2097, 3812, 5008}, 38: {64957}, 39: {930, 1321, 101362, 6550}, 40: {314}, 41: {95105, 5218, 364, 7756, 595}, 42: {1233, 5690, 6987, 527}, 43: {2149, 1993, 81132, 36401, 79702}, 44: {1064, 2097, 3355, 81132}, 45: {31101, 33437, 64614, 140711}, 46: {466, 61132, 3868}, 47: {2617, 380}, 48: {84944, 87222, 62999}, 49: {2987, 2092, 52462}, 50: {2761, 68954, 2090, 79132}, 51: {1784, 64993, 42422}, 52: {47610, 130050}, 53: {8917}, 54: {8961, 2683, 62999}, 55: {84944, 2006, 26183}, 56: {4720, 48780, 81132, 2023}, 57: {5378, 60069, 1127, 1544, 1909}, 58: {122912, 106487, 8253, 44191}, 59: {57504, 2006}, 60: {2890, 81132}, 61: {432, 2012}, 62: {3681, 43419, 6753}, 63: {288, 1377, 165}, 64: {2001, 119145, 7262, 62999}, 65: {2761, 5389, 6333}, 66: {380, 1249, 708}, 67: {2648, 4826, 2363, 3676}, 68: {7123, 908, 27317}, 69: {7657, 293, 6373, 71899}, 70: {546, 6539, 79702, 1215}, 71: {1464, 1073, 32587, 1252}, 72: {32515, 2899, 2085, 2687}, 73: {26887, 70159, 4720, 43932, 350}, 74: {594, 7099}, 75: {1200, 70, 4232, 2054}, 76: {109673, 2890}, 77: {8253, 37830, 106487}, 78: {32728, 1097, 531, 151687}, 79: {89745, 79132, 95510, 58559}, 80: {27584, 47937, 2699, 1717, 86295}, 81: {6378, 32019, 367}, 82: {3868}, 83: {1544, 91529, 62999}, 84: {6281, 1805, 3386, 27397}, 85: {48, 2138, 3168, 65261}, 86: {1376, 708, 4299, 432, 87}, 87: {364, 4006, 2687}, 88: {7137, 355, 1707, 56782, 1302}, 89: {432, 3868}, 90: {1345, 1282, 2018, 2138}, 91: {105121, 6377, 1233, 4826, 108540}, 92: {68954, 5444}, 93: {314}, 94: {3016, 1228, 44, 1394, 1242}, 95: {3104, 8169, 3836, 140711}, 96: {3210}, 97: {2355, 2090, 6659, 4006}, 98: {84944, 2355}, 99: {6564, 6539, 420, 4299}, 100: {4161, 3624, 2953, 1513, 3438}, 101: {1281, 7004, 70}, 102: {102720, 661, 4446, 1022}, 103: {788}, 104: {103249, 77561, 72998, 110127}, 105: {6966, 79702, 60074, 42718}, 106: {2617, 6333, 1375, 1197}, 107: {2657, 708, 45732, 5299, 60950}, 108: {130050, 48780, 29}, 109: {1464, 800, 1799}, 110: {57504, 48, 26701, 7831}, 111: {4995, 3758, 44191}, 112: {3081, 8482, 64957}, 113: {52328, 101088, 48780, 1199}, 114: {2384, 31193, 4090, 2139}, 115: {49530}, 116: {48, 2987, 26701, 198}, 117: {5433, 7099}, 118: {72104, 5065, 4874}, 119: {36401, 27563, 51709, 3798}, 120: {2097, 5065}, 121: {47937, 7657, 81132, 86295, 3836}, 122: {27397, 3081, 1809, 2899, 25788}, 123: {114246, 293, 74510}, 124: {1376, 1196, 122886}, 125: {2722, 3175, 2735, 1136, 2613}, 126: {4084, 3868, 7325}, 127: {6548, 1739, 69644, 2879}, 128: {2722, 81132, 27692, 45431}, 129: {185, 6874, 4291, 6663}, 130: {2355, 7099}, 131: {169, 1688, 5008, 7059, 888}, 132: {95167, 2899, 44, 367}, 133: {1278}, 134: {26849, 168090, 7123, 6902}, 135: {46976, 2793, 838}, 136: {84944, 81132, 52287}, 137: {1200, 2355, 4006}, 138: {2338, 2054, 2735}, 139: {1464}, 140: {51709, 4789, 79702, 1327}, 141: {5065, 724}, 142: {708}, 143: {5882}, 144: {1291, 2628}, 145: {2414, 780, 6350, 596}, 146: {8464, 953, 5804, 64957}, 147: {1688, 673, 2761, 134853}, 148: {135887, 147378, 60069, 2687}, 149: {81564, 81132, 8253}, 150: {4720, 680, 26887}, 151: {1, 3054}, 152: {7099, 6214, 26631}, 153: {2761, 2028, 1200, 2138, 2366}, 154: {1200}, 155: {688, 6539}, 156: {64993, 64957, 783}, 157: {208, 8644, 160}, 158: {103249}, 159: {296, 3210, 1464}, 160: {610, 7099, 8253}, 161: {59784, 3681}, 162: {293, 2085, 104141}, 163: {84944}, 164: {74545, 930, 4878}, 165: {858, 4903}, 166: {1345, 2819, 4878, 1327, 5433}, 167: {266}, 168: {225, 34, 61236}, 169: {364, 668, 1250, 148}, 170: {4299, 81132, 69644, 79702}, 171: {8253, 1197}, 172: {4993, 7099, 168090, 98203, 4446}, 173: {4226, 51925, 70286, 105653}, 174: {81132, 2701, 70, 1197}, 175: {1408, 1197, 4719}, 176: {1200, 2012, 150}, 177: {1073, 79702}, 178: {5952, 7099}, 179: {6333}, 180: {63312, 923, 139644}, 181: {2793, 410}, 182: {148978, 7099, 7123}, 183: {1200, 96691, 2054}, 184: {1029, 85736, 109673, 3508, 2138}, 185: {1028, 120138, 2065, 72407, 64957}, 186: {5008, 99149}, 187: {2344, 170, 1429}, 188: {47610, 60684, 4878}, 189: {5296, 140561, 34162, 1468, 6365}, 190: {1784, 1269}, 191: {34532, 48780, 60941, 4878, 3355}, 192: {1372, 47404, 37830}, 193: {53953, 1242, 107436, 139655}, 194: {7099, 88125, 29}, 195: {76093, 95, 44191}, 196: {256, 3697, 1333, 1270, 2265}, 197: {587, 4428, 1197, 81132}, 198: {26681, 147378, 2076, 2533}, 199: {33794, 2}, 200: {26776, 380}, 201: {5952, 47261, 41566}, 202: {3264, 4025, 2002, 43419}, 203: {84944, 54997, 95167}, 204: {130520, 102194, 44, 318}, 205: {112, 260, 8253, 136864}, 206: {2857, 2355, 551}, 207: {33794, 6934}, 208: {2273, 102033}, 209: {829, 4789}, 210: {1464, 198}, 211: {8360, 33794}, 212: {34532, 105801, 149011, 3798, 2363}, 213: {3745, 33794, 81564, 104141}, 214: {3000, 6953, 631, 551}, 215: {6333, 8118}, 216: {1464}, 217: {1967, 1619, 49530, 5949, 1278}, 218: {2617, 61132}, 219: {134368, 106785, 54999, 367}, 220: {8961, 6378, 84944, 54997, 185}, 221: {3740, 5155, 420, 251}, 222: {7099, 631}, 223: {6306, 8810, 3990, 3037, 94}, 224: {647, 109673, 103249, 106487}, 225: {6378, 6539, 3868, 4238}, 226: {2355, 2005}, 227: {2712, 27904, 314, 364}, 228: {1544, 88140}, 229: {130050, 26887, 3081, 1912, 2746}, 230: {1385, 1029, 5791}, 231: {33794, 102445}, 232: {33794, 6300}, 233: {5445, 114246, 31086, 74510, 595}, 234: {1265, 129, 2065, 6711}, 235: {5816, 19, 1516, 1215}, 236: {1345, 2097, 724, 5065}, 237: {37729, 930, 6548}, 238: {8024, 51545, 2683}, 239: {1408, 4299}, 240: {5954, 85736, 364, 8656, 110102}, 241: {673, 60069}, 242: {3270, 295, 108078, 1464, 116799}, 243: {6049, 5507, 1060, 98585, 829}, 244: {1408, 168248, 6548, 44191}, 245: {8368, 91529}, 246: {1408, 3868, 54997}, 247: {2414, 41566}, 248: {4720, 2355, 69275, 72407}, 249: {485, 6539, 3070, 2012, 2142}, 250: {260, 5541, 750, 106487, 6365}, 251: {1191, 1199, 1073, 2968, 829}, 252: {647, 6537, 1644, 106487}, 253: {54997, 293, 68205, 1125}, 254: {129, 40581, 53996, 155509, 58047}, 255: {6214, 79132, 5630, 159}, 256: {1464, 353, 32587}, 257: {150, 140715, 1358}, 258: {6104, 7728, 543}, 259: {2016, 2953, 27706}, 260: {1408, 49530, 84944}, 261: {3176, 2097, 410, 2819}, 262: {47610, 3798, 26887}, 263: {1464}, 264: {3868}, 265: {129354, 539, 3798}, 266: {1464, 72737, 2020, 613}, 267: {364}, 268: {68954, 588, 2687}, 269: {89745, 1274, 106487}, 270: {96832, 5971, 1029}, 271: {72737, 788, 2054, 71999}, 272: {71033, 594, 314, 56757}, 273: {57528, 8730, 114662, 174055}, 274: {1249, 33893, 2278, 876, 7004}, 275: {51545, 116668, 27683, 81132}, 276: {1025, 1282, 631}, 277: {4802, 236, 5541}, 278: {2657, 3273, 130050, 36401}, 279: {50872, 300}, 280: {314, 6373}, 281: {2683, 170939}, 282: {55116, 908, 688, 27793, 46965}, 283: {3104, 91529, 43419, 58559}, 284: {79702}, 285: {1282, 2139, 2023}, 286: {2617, 1261, 70}, 287: {79132, 293, 198}, 288: {2657}, 289: {8961, 610, 2761}, 290: {2138, 59315, 2687}, 291: {1923, 46965, 1717}, 292: {32009, 7325, 144606}, 293: {4719, 81132, 22, 1407}, 294: {8636, 51709, 106487}, 295: {2762, 47610, 318, 72407}, 296: {60161, 88140, 69644}, 297: {4291, 1125, 79702}, 298: {1784, 55451, 56941, 54190}, 299: {59784, 2194, 139644, 54997}, 300: {1464}, 301: {4802, 4518, 4299, 33679, 600}, 302: {1408, 4980, 26142, 88140}, 303: {31658, 7099, 2085, 60069}, 304: {5127, 97172, 838, 3479}, 305: {6300, 6378, 102716}, 306: {101864, 44, 88140, 150, 126430}, 307: {2018, 2116, 93208, 314, 175293}, 308: {3868}, 309: {4720, 1345, 112556, 5065}, 310: {2890, 61132, 2701, 59315, 1527}, 311: {84944, 87222, 55167}, 312: {79702}, 313: {112, 153}, 314: {1688, 2899, 364}, 315: {5377, 613, 838, 31}, 316: {3868}, 317: {109673, 87222, 62999}, 318: {2338, 4995, 7382}, 319: {79702}, 320: {2657, 70}, 321: {112, 4042, 899}, 322: {5952, 4993, 4446, 118696}, 323: {106696, 364, 22, 1464, 159}, 324: {432, 112, 72165, 79702}, 325: {48, 64993, 68954, 1033}, 326: {84944, 4306, 60069}, 327: {1200, 61132, 155509, 71535}, 328: {79702}, 329: {1376, 103253, 95510}, 330: {84944, 77561, 69644, 1197}, 331: {1582, 1390, 1722, 2294}, 332: {91529, 86644}, 333: {2001, 134853}, 334: {33681, 2162, 33493, 4238}, 335: {4963, 3910, 4936, 2859, 5364}, 336: {6564, 88140, 1197}, 337: {106696, 47404}, 338: {85056, 6934, 61240, 84954, 4638}, 339: {1200, 1233, 2355}, 340: {2722, 6548}, 341: {3115, 3676, 30749, 47}, 342: {6539, 750, 93510, 2879}, 343: {1408, 367, 81564, 1278, 98623}, 344: {84944, 91529, 62999, 106487}, 345: {8644, 2916, 60069}, 346: {5882}, 347: {3075, 5219, 5065, 2422, 103228}, 348: {153, 107436, 1377}, 349: {64993, 266, 595, 81132}, 350: {2194, 111659, 58559}, 351: {47610, 79702}, 352: {7099, 58404, 76093}, 353: {84944, 1291, 2701, 130520}, 354: {364}, 355: {4720, 2009, 26693}, 356: {81132, 1197, 3070}, 357: {2617, 5541, 70}, 358: {1688, 89745, 364, 95167}, 359: {53125, 6539, 2987, 1197, 3868}, 360: {432}, 361: {2097, 314}, 362: {103249, 68954, 81132}, 363: {4896, 95738, 48, 2384}, 364: {296, 288, 4011, 6}, 365: {2176, 3178, 2160, 53127}, 366: {122920, 110553, 8636, 260}, 367: {112512, 47610, 26631}, 368: {1784, 155509, 356, 788}, 369: {2184, 3113, 366, 2097, 2940}, 370: {64993, 64957}, 371: {84944, 63859, 95167}, 372: {5882}, 373: {1377, 6378, 104141, 49530}, 374: {6537, 5378, 33493, 69526}, 375: {3210, 38061, 1784, 71550, 3358}, 376: {968, 1200, 5502}, 377: {5882}, 378: {2859, 5989, 2142}, 379: {2048, 5882}, 380: {3624, 2273}, 381: {1464, 4789, 22, 1407}, 382: {60522, 3868, 2735}, 383: {587}, 384: {106487}, 385: {91529, 1274}, 386: {96832, 130050, 26887, 31696, 43932}, 387: {81564}, 388: {1282, 26693, 4902, 1967, 1339}, 389: {8961, 3745}, 390: {79224, 6753, 106642, 647}, 391: {2761, 364, 2142}, 392: {1249, 79702, 7325, 2054}, 393: {49530, 81564}, 394: {5378, 260, 2142}, 395: {3406, 1619, 7118}, 396: {90866, 3788, 5388, 5506}, 397: {60289, 2338, 6951, 5428, 83134}, 398: {1258, 590, 1303}, 399: {2617, 3438, 380, 70}, 400: {81132, 70}, 401: {2116, 165, 112006, 2687}, 402: {112, 432, 2879}, 403: {140711, 81132, 31804, 43932, 1917}, 404: {106785, 56171, 60}, 405: {27683, 3273, 83349, 51545, 2940}, 406: {130050, 314}, 407: {84944, 130520}, 408: {5433, 74685, 70159}, 409: {1009, 48738, 6790, 1278}, 410: {79702}, 411: {2054, 2012, 59315, 33493, 8636}, 412: {2186, 81132, 1271}, 413: {3081, 3572, 22, 2648, 31}, 414: {3113, 81132, 60069, 5065}, 415: {91529, 5882, 89745, 6350}, 416: {364, 68954, 5690, 61236}, 417: {1321, 3706, 3355, 2338}, 418: {594, 7099}, 419: {59501, 181}, 420: {4720, 3798}, 421: {57504, 60161, 69644}, 422: {170827, 2149, 79702, 1215}, 423: {87520, 87222, 106487}, 424: {1196, 1405, 4446}, 425: {2987, 69844}, 426: {43932, 29, 1215}, 427: {3448, 4321, 2338, 56782}, 428: {1282, 2541, 158830}, 429: {1083, 731, 4789, 1278}, 430: {5804, 64957, 1007}, 431: {2324, 70}, 432: {84944, 135456}, 433: {3978, 1995, 1717, 791, 1147}, 434: {4084, 3868}, 435: {594}, 436: {57504, 64993, 69644}, 437: {1408, 109673, 81132, 293}, 438: {81132, 3868, 79702}, 439: {165, 4008, 69481, 1321, 26875}, 440: {97752, 3788, 432, 159}, 441: {1464, 4874, 139644, 102903}, 442: {47610, 168090, 69844, 64957}, 443: {3798}, 444: {1580, 5156, 6662}, 445: {140711, 3703, 71205, 6333}, 446: {46850, 7932, 1189, 53894}, 447: {87520, 103228, 69526}, 448: {3355, 1269, 86295}, 449: {26776, 147196, 36477, 432}, 450: {2001, 5010, 68157, 1769}, 451: {6954, 1284, 54997, 2706}, 452: {46530, 52722, 6934}, 453: {91529}, 454: {1616, 122920, 2989}, 455: {1408, 1784}, 456: {6281, 3386, 56757, 2841}, 457: {51545, 161, 356, 6428}, 458: {3704, 147378, 98203, 41566}, 459: {1321, 79702, 2793, 70}, 460: {1730, 63082, 4239}, 461: {3868, 26701, 4238, 1223}, 462: {1464, 595, 7099, 79132}, 463: {3418, 58559}, 464: {1408}, 465: {1912, 6987, 5891}, 466: {3264, 3268, 70, 26413, 87}, 467: {2105, 1291, 60, 2414}, 468: {8360, 60069, 87222, 6711}, 469: {1544, 136864, 37830}, 470: {1464, 33794}, 471: {130050, 26887, 3081, 5065, 1464}, 472: {3681, 56174, 1269, 6934, 94777}, 473: {2944, 3977, 2890, 68157}, 474: {1064, 4299, 64957, 79702}, 475: {62956, 70, 6503}, 476: {153, 3868, 420, 165}, 477: {7099}, 478: {2657, 3081, 1064, 64957}, 479: {3681, 750}, 480: {2097, 72407}, 481: {85261, 87222, 62999}, 482: {71033, 2987}, 483: {84601, 3386, 51925}, 484: {1345, 4833, 2762, 1130, 3798}, 485: {84944, 2355, 1200}, 486: {1909}, 487: {106696, 94777, 969, 51662}, 488: {1464, 2065, 47610, 26887}, 489: {5882, 108090}, 490: {353, 935, 367, 8796, 2622}, 491: {2138, 7123, 2987, 7099}, 492: {4902, 2138, 314, 26662}, 493: {1464, 266, 81132}, 494: {85342, 103253, 150, 58559}, 495: {260, 110102}, 496: {135456, 77561}, 497: {84944, 91529}, 498: {858}, 499: {1025, 2090, 594, 2139, 2687}, 500: {3745, 2761, 60069}, 501: {2082, 1005}, 502: {2747, 2699, 3565, 3798}, 503: {1018, 32587, 3988}, 504: {7569, 53972, 2948, 165}, 505: {96448, 81132, 118572, 2587, 6428}, 506: {587, 4902}, 507: {27008, 750, 600, 53022, 98623}, 508: {688, 1562, 88140, 2701}, 509: {2097, 43932}, 510: {6378, 86892, 114246, 63}, 511: {1200, 442, 79132, 610}, 512: {37729, 81847}, 513: {27808, 6266, 48780, 1464}, 514: {2692, 33158, 6, 173, 5423}, 515: {80219, 43419, 2692}, 516: {1407}, 517: {364, 2987, 81132, 88125}, 518: {2657, 31804, 788, 6902}, 519: {358, 6856, 524, 3949, 1213}, 520: {106696, 37729}, 521: {1345, 5810, 150, 3735}, 522: {594, 364}, 523: {5065, 27317, 36533}, 524: {52462, 69644, 130518}, 525: {84944, 152081, 63859, 26183}, 526: {91529, 72998}, 527: {79702, 45732, 7046, 132422}, 528: {98243, 2989, 73854, 1031}, 529: {4446, 61236, 5377, 22}, 530: {1136, 3018, 142444}, 531: {91529, 1291}, 532: {432, 7033, 543}, 533: {432, 7099, 60069, 6350}, 534: {146024, 165}, 535: {1909, 26701, 5445}, 536: {60069}, 537: {1025, 1282}, 538: {84944, 1408, 2701}, 539: {87232, 8985, 164226, 2916}, 540: {69644, 165}, 541: {37729, 31658, 1265, 1464, 7099}, 542: {2654, 3113, 85788, 366}, 543: {2657, 37729, 708, 1064, 8044}, 544: {84944, 40339, 5478}, 545: {3745, 2085, 60069}, 546: {32587, 4502, 32632, 6874, 98623}, 547: {3264, 2657, 83349}, 548: {2722, 27692, 688, 51545, 6428}, 549: {5418}, 550: {165, 88140, 84944, 135569, 122904}, 551: {6503, 7325, 3710, 367}, 552: {2648, 2090, 81564, 22}, 553: {3210, 539, 71156, 81132}, 554: {6564, 1197, 79702}, 555: {3798}, 556: {148978, 52462, 29, 6902}, 557: {27904, 60069, 132046}, 558: {1278, 1562, 32022}, 559: {552, 2701, 53022}, 560: {587, 838}, 561: {1089, 4499, 1270, 8607}, 562: {59784, 91529, 46530}, 563: {160, 1711, 89745, 120827, 139644}, 564: {2324}, 565: {4720, 101088, 112421, 26887}, 566: {6709, 96004, 165}, 567: {2683, 2879}, 568: {51545, 4299, 3868}, 569: {2097, 6273, 314}, 570: {451, 8983, 1464, 71033, 88125}, 571: {3624, 5541, 70}, 572: {5882, 72998}, 573: {97752, 364, 106696}, 574: {4776, 115569, 5875, 27397}, 575: {27692, 750, 2001, 370, 3836}, 576: {2657, 2097, 432}, 577: {3370, 133419, 112556, 97304, 44191}, 578: {3868, 2879}, 579: {60074, 631}, 580: {32587, 6548}, 581: {112}, 582: {5378, 62999}, 583: {3696, 1917}, 584: {1380, 4498, 2874, 6}, 585: {1282, 2138}, 586: {1291, 165}, 587: {7304, 2857, 661, 3000}, 588: {106696, 37729, 79702}, 589: {648, 48780, 79132, 1967}, 590: {71462, 66097, 1073, 47610, 5820}, 591: {63433, 1196}, 592: {22}, 593: {6624, 1028, 2054, 5419, 410}, 594: {1464, 7099, 1029}, 595: {2338, 111659, 26662}, 596: {72737, 2011, 58404}, 597: {59784, 63859, 4103}, 598: {47}, 599: {50068, 55069, 1206}, 600: {89745, 52722, 72998, 106487}, 601: {77561, 1197}, 602: {551, 3113, 44555, 2097, 34162}, 603: {1464, 595, 79132}, 604: {146024, 1197}, 605: {368, 2724, 103253, 968}, 606: {923, 74727, 146028, 147286, 47099}, 607: {48, 594, 5971, 1029}, 608: {5882, 60069}, 609: {4386, 3238, 520, 90384, 4214}, 610: {552, 370, 380, 176101}},\n",
       "      dtype=object)"
      ]
     },
     "execution_count": 270,
     "metadata": {},
     "output_type": "execute_result"
    }
   ],
   "source": [
    "np.array(csv_file)"
   ]
  },
  {
   "cell_type": "markdown",
   "metadata": {},
   "source": [
    "**Save The Result**"
   ]
  },
  {
   "cell_type": "code",
   "execution_count": 271,
   "metadata": {},
   "outputs": [],
   "source": [
    "pickle.dump((np.array(csv_file)), open('recommend_matrics.p', 'wb'))"
   ]
  },
  {
   "cell_type": "markdown",
   "metadata": {},
   "source": [
    "**Reload The Result**"
   ]
  },
  {
   "cell_type": "code",
   "execution_count": 272,
   "metadata": {},
   "outputs": [
    {
     "data": {
      "text/plain": [
       "array({1: {81564, 5882, 8636}, 2: {2683, 485, 79702}, 3: {122898, 112175, 69526, 106487}, 4: {72165, 79702}, 5: {595}, 6: {1345, 5418, 5065, 314}, 7: {2273, 2724, 1380, 140711, 1022}, 8: {102720, 71484, 64167, 67408, 139644}, 9: {904, 4874, 2291, 47610, 188}, 10: {27706, 2139, 134853, 26662}, 11: {4205, 1809, 97172, 22, 2395}, 12: {119145, 58404, 47404, 122886}, 13: {84944, 1022, 783}, 14: {3355, 2149}, 15: {314, 5419, 6902, 180031}, 16: {1912, 1265, 93840, 79702}, 17: {711, 95167}, 18: {432, 2657, 7123, 71550}, 19: {432, 58404}, 20: {1136, 2987, 2797}, 21: {1688, 68954}, 22: {104841, 33794, 102445, 95510}, 23: {7099}, 24: {85261, 56174, 33679, 6934, 8636}, 25: {590, 337, 150, 508, 2687}, 26: {6125, 595, 1171, 631, 4831}, 27: {610, 5507, 34150, 208, 3793}, 28: {81132, 2701, 2879}, 29: {57504, 610, 69644}, 30: {188, 22, 2023}, 31: {91529, 72998}, 32: {60074}, 33: {57504, 5882, 87222}, 34: {1345, 1835, 1339}, 35: {1464, 595}, 36: {314, 2414}, 37: {1136, 2097, 3812, 5008}, 38: {64957}, 39: {1321, 930, 101362, 6550}, 40: {314}, 41: {95105, 5218, 364, 7756, 595}, 42: {1233, 5690, 6987, 527}, 43: {2149, 1993, 81132, 36401, 79702}, 44: {1064, 2097, 3355, 81132}, 45: {64614, 31101, 33437, 140711}, 46: {466, 61132, 3868}, 47: {2617, 380}, 48: {84944, 87222, 62999}, 49: {2987, 2092, 52462}, 50: {2761, 68954, 2090, 79132}, 51: {1784, 64993, 42422}, 52: {47610, 130050}, 53: {8917}, 54: {8961, 2683, 62999}, 55: {84944, 2006, 26183}, 56: {4720, 2023, 48780, 81132}, 57: {5378, 60069, 1127, 1544, 1909}, 58: {122912, 44191, 8253, 106487}, 59: {57504, 2006}, 60: {2890, 81132}, 61: {432, 2012}, 62: {3681, 43419, 6753}, 63: {288, 1377, 165}, 64: {2001, 119145, 7262, 62999}, 65: {2761, 5389, 6333}, 66: {1249, 708, 380}, 67: {2648, 4826, 2363, 3676}, 68: {7123, 908, 27317}, 69: {7657, 71899, 6373, 293}, 70: {546, 6539, 79702, 1215}, 71: {1464, 1073, 32587, 1252}, 72: {2899, 32515, 2085, 2687}, 73: {26887, 70159, 4720, 43932, 350}, 74: {594, 7099}, 75: {1200, 4232, 70, 2054}, 76: {109673, 2890}, 77: {8253, 37830, 106487}, 78: {32728, 1097, 531, 151687}, 79: {89745, 79132, 95510, 58559}, 80: {27584, 47937, 2699, 1717, 86295}, 81: {6378, 32019, 367}, 82: {3868}, 83: {1544, 91529, 62999}, 84: {6281, 3386, 27397, 1805}, 85: {48, 2138, 3168, 65261}, 86: {1376, 708, 4299, 432, 87}, 87: {364, 4006, 2687}, 88: {7137, 355, 1707, 56782, 1302}, 89: {432, 3868}, 90: {1345, 1282, 2018, 2138}, 91: {105121, 6377, 1233, 4826, 108540}, 92: {68954, 5444}, 93: {314}, 94: {3016, 1228, 44, 1394, 1242}, 95: {3104, 8169, 3836, 140711}, 96: {3210}, 97: {6659, 2090, 2355, 4006}, 98: {84944, 2355}, 99: {420, 6539, 6564, 4299}, 100: {4161, 3624, 2953, 1513, 3438}, 101: {1281, 7004, 70}, 102: {102720, 661, 4446, 1022}, 103: {788}, 104: {103249, 77561, 72998, 110127}, 105: {79702, 60074, 42718, 6966}, 106: {2617, 1197, 6333, 1375}, 107: {2657, 45732, 708, 5299, 60950}, 108: {130050, 48780, 29}, 109: {1464, 800, 1799}, 110: {57504, 48, 26701, 7831}, 111: {4995, 3758, 44191}, 112: {3081, 8482, 64957}, 113: {52328, 101088, 48780, 1199}, 114: {2384, 31193, 4090, 2139}, 115: {49530}, 116: {48, 2987, 26701, 198}, 117: {5433, 7099}, 118: {72104, 5065, 4874}, 119: {36401, 27563, 51709, 3798}, 120: {2097, 5065}, 121: {47937, 7657, 81132, 86295, 3836}, 122: {27397, 3081, 1809, 2899, 25788}, 123: {293, 114246, 74510}, 124: {1376, 1196, 122886}, 125: {2722, 3175, 2735, 1136, 2613}, 126: {4084, 3868, 7325}, 127: {1739, 6548, 69644, 2879}, 128: {2722, 81132, 27692, 45431}, 129: {185, 6874, 4291, 6663}, 130: {2355, 7099}, 131: {169, 5008, 7059, 888, 1688}, 132: {2899, 44, 367, 95167}, 133: {1278}, 134: {26849, 168090, 7123, 6902}, 135: {46976, 2793, 838}, 136: {84944, 81132, 52287}, 137: {1200, 2355, 4006}, 138: {2338, 2054, 2735}, 139: {1464}, 140: {1327, 51709, 79702, 4789}, 141: {5065, 724}, 142: {708}, 143: {5882}, 144: {1291, 2628}, 145: {780, 6350, 2414, 596}, 146: {8464, 953, 5804, 64957}, 147: {1688, 673, 2761, 134853}, 148: {147378, 60069, 2687, 135887}, 149: {81564, 8253, 81132}, 150: {4720, 680, 26887}, 151: {1, 3054}, 152: {7099, 6214, 26631}, 153: {2761, 2028, 1200, 2138, 2366}, 154: {1200}, 155: {688, 6539}, 156: {64993, 64957, 783}, 157: {208, 8644, 160}, 158: {103249}, 159: {296, 3210, 1464}, 160: {610, 7099, 8253}, 161: {59784, 3681}, 162: {104141, 2085, 293}, 163: {84944}, 164: {74545, 930, 4878}, 165: {858, 4903}, 166: {1345, 2819, 4878, 1327, 5433}, 167: {266}, 168: {225, 34, 61236}, 169: {668, 1250, 364, 148}, 170: {4299, 81132, 69644, 79702}, 171: {8253, 1197}, 172: {4993, 98203, 168090, 7099, 4446}, 173: {4226, 51925, 70286, 105653}, 174: {81132, 2701, 70, 1197}, 175: {1408, 1197, 4719}, 176: {1200, 2012, 150}, 177: {1073, 79702}, 178: {5952, 7099}, 179: {6333}, 180: {63312, 923, 139644}, 181: {2793, 410}, 182: {148978, 7099, 7123}, 183: {1200, 96691, 2054}, 184: {1029, 85736, 109673, 3508, 2138}, 185: {1028, 120138, 2065, 72407, 64957}, 186: {5008, 99149}, 187: {2344, 170, 1429}, 188: {47610, 60684, 4878}, 189: {5296, 140561, 34162, 1468, 6365}, 190: {1784, 1269}, 191: {34532, 48780, 60941, 4878, 3355}, 192: {1372, 37830, 47404}, 193: {53953, 1242, 107436, 139655}, 194: {29, 7099, 88125}, 195: {44191, 76093, 95}, 196: {256, 3697, 1333, 1270, 2265}, 197: {587, 4428, 1197, 81132}, 198: {26681, 147378, 2076, 2533}, 199: {33794, 2}, 200: {26776, 380}, 201: {5952, 47261, 41566}, 202: {3264, 4025, 2002, 43419}, 203: {84944, 54997, 95167}, 204: {130520, 102194, 44, 318}, 205: {112, 260, 8253, 136864}, 206: {2857, 2355, 551}, 207: {33794, 6934}, 208: {2273, 102033}, 209: {829, 4789}, 210: {1464, 198}, 211: {8360, 33794}, 212: {34532, 105801, 149011, 3798, 2363}, 213: {3745, 33794, 81564, 104141}, 214: {3000, 6953, 551, 631}, 215: {6333, 8118}, 216: {1464}, 217: {1967, 1619, 49530, 5949, 1278}, 218: {2617, 61132}, 219: {134368, 106785, 367, 54999}, 220: {8961, 6378, 84944, 54997, 185}, 221: {420, 5155, 3740, 251}, 222: {7099, 631}, 223: {6306, 8810, 3990, 3037, 94}, 224: {103249, 109673, 106487, 647}, 225: {6378, 6539, 3868, 4238}, 226: {2355, 2005}, 227: {2712, 27904, 314, 364}, 228: {1544, 88140}, 229: {130050, 26887, 3081, 1912, 2746}, 230: {1385, 1029, 5791}, 231: {33794, 102445}, 232: {33794, 6300}, 233: {5445, 114246, 31086, 74510, 595}, 234: {1265, 129, 2065, 6711}, 235: {5816, 19, 1516, 1215}, 236: {1345, 724, 5065, 2097}, 237: {37729, 930, 6548}, 238: {8024, 51545, 2683}, 239: {1408, 4299}, 240: {5954, 85736, 364, 8656, 110102}, 241: {673, 60069}, 242: {3270, 295, 108078, 1464, 116799}, 243: {6049, 5507, 1060, 98585, 829}, 244: {1408, 168248, 6548, 44191}, 245: {8368, 91529}, 246: {1408, 3868, 54997}, 247: {41566, 2414}, 248: {4720, 2355, 69275, 72407}, 249: {485, 6539, 3070, 2012, 2142}, 250: {260, 5541, 750, 106487, 6365}, 251: {1191, 1199, 1073, 2968, 829}, 252: {6537, 106487, 1644, 647}, 253: {1125, 293, 68205, 54997}, 254: {129, 40581, 53996, 155509, 58047}, 255: {79132, 5630, 6214, 159}, 256: {1464, 353, 32587}, 257: {1358, 140715, 150}, 258: {6104, 7728, 543}, 259: {2016, 2953, 27706}, 260: {1408, 49530, 84944}, 261: {3176, 2097, 410, 2819}, 262: {47610, 3798, 26887}, 263: {1464}, 264: {3868}, 265: {129354, 539, 3798}, 266: {1464, 72737, 2020, 613}, 267: {364}, 268: {68954, 588, 2687}, 269: {89745, 1274, 106487}, 270: {96832, 5971, 1029}, 271: {72737, 788, 2054, 71999}, 272: {71033, 594, 314, 56757}, 273: {57528, 8730, 114662, 174055}, 274: {1249, 33893, 2278, 876, 7004}, 275: {51545, 27683, 116668, 81132}, 276: {1025, 1282, 631}, 277: {4802, 236, 5541}, 278: {2657, 130050, 3273, 36401}, 279: {50872, 300}, 280: {314, 6373}, 281: {2683, 170939}, 282: {908, 55116, 688, 27793, 46965}, 283: {3104, 91529, 43419, 58559}, 284: {79702}, 285: {1282, 2139, 2023}, 286: {2617, 1261, 70}, 287: {79132, 293, 198}, 288: {2657}, 289: {8961, 610, 2761}, 290: {2138, 59315, 2687}, 291: {1923, 46965, 1717}, 292: {32009, 7325, 144606}, 293: {81132, 1407, 22, 4719}, 294: {8636, 51709, 106487}, 295: {47610, 2762, 318, 72407}, 296: {60161, 88140, 69644}, 297: {4291, 1125, 79702}, 298: {1784, 55451, 56941, 54190}, 299: {59784, 2194, 139644, 54997}, 300: {1464}, 301: {4802, 4518, 4299, 33679, 600}, 302: {1408, 4980, 26142, 88140}, 303: {31658, 7099, 2085, 60069}, 304: {3479, 97172, 838, 5127}, 305: {6378, 6300, 102716}, 306: {101864, 44, 88140, 150, 126430}, 307: {2018, 2116, 93208, 314, 175293}, 308: {3868}, 309: {4720, 1345, 112556, 5065}, 310: {2890, 61132, 2701, 59315, 1527}, 311: {84944, 87222, 55167}, 312: {79702}, 313: {112, 153}, 314: {1688, 2899, 364}, 315: {5377, 613, 838, 31}, 316: {3868}, 317: {109673, 87222, 62999}, 318: {2338, 4995, 7382}, 319: {79702}, 320: {2657, 70}, 321: {112, 4042, 899}, 322: {5952, 4993, 118696, 4446}, 323: {106696, 364, 22, 1464, 159}, 324: {432, 112, 72165, 79702}, 325: {48, 64993, 68954, 1033}, 326: {84944, 4306, 60069}, 327: {1200, 61132, 155509, 71535}, 328: {79702}, 329: {1376, 103253, 95510}, 330: {84944, 77561, 69644, 1197}, 331: {1722, 2294, 1390, 1582}, 332: {91529, 86644}, 333: {2001, 134853}, 334: {33681, 2162, 33493, 4238}, 335: {4963, 3910, 4936, 2859, 5364}, 336: {6564, 1197, 88140}, 337: {106696, 47404}, 338: {85056, 6934, 61240, 84954, 4638}, 339: {1200, 1233, 2355}, 340: {2722, 6548}, 341: {3115, 3676, 30749, 47}, 342: {93510, 6539, 750, 2879}, 343: {1408, 367, 81564, 1278, 98623}, 344: {84944, 91529, 106487, 62999}, 345: {2916, 8644, 60069}, 346: {5882}, 347: {3075, 5219, 5065, 2422, 103228}, 348: {153, 107436, 1377}, 349: {64993, 266, 595, 81132}, 350: {2194, 111659, 58559}, 351: {47610, 79702}, 352: {7099, 58404, 76093}, 353: {84944, 1291, 2701, 130520}, 354: {364}, 355: {4720, 2009, 26693}, 356: {81132, 1197, 3070}, 357: {2617, 5541, 70}, 358: {1688, 89745, 364, 95167}, 359: {53125, 6539, 2987, 1197, 3868}, 360: {432}, 361: {2097, 314}, 362: {103249, 68954, 81132}, 363: {4896, 2384, 95738, 48}, 364: {296, 288, 4011, 6}, 365: {2176, 3178, 2160, 53127}, 366: {122920, 110553, 8636, 260}, 367: {112512, 47610, 26631}, 368: {1784, 788, 356, 155509}, 369: {2184, 3113, 366, 2097, 2940}, 370: {64993, 64957}, 371: {84944, 63859, 95167}, 372: {5882}, 373: {1377, 6378, 104141, 49530}, 374: {6537, 5378, 33493, 69526}, 375: {3210, 38061, 1784, 71550, 3358}, 376: {968, 5502, 1200}, 377: {5882}, 378: {2859, 5989, 2142}, 379: {2048, 5882}, 380: {3624, 2273}, 381: {1464, 4789, 22, 1407}, 382: {60522, 3868, 2735}, 383: {587}, 384: {106487}, 385: {91529, 1274}, 386: {96832, 130050, 26887, 31696, 43932}, 387: {81564}, 388: {1282, 26693, 4902, 1967, 1339}, 389: {8961, 3745}, 390: {79224, 6753, 106642, 647}, 391: {2761, 364, 2142}, 392: {1249, 7325, 79702, 2054}, 393: {49530, 81564}, 394: {5378, 260, 2142}, 395: {1619, 7118, 3406}, 396: {90866, 3788, 5388, 5506}, 397: {60289, 2338, 6951, 5428, 83134}, 398: {1258, 590, 1303}, 399: {2617, 380, 3438, 70}, 400: {81132, 70}, 401: {2116, 165, 112006, 2687}, 402: {112, 432, 2879}, 403: {140711, 81132, 31804, 43932, 1917}, 404: {106785, 56171, 60}, 405: {27683, 3273, 83349, 51545, 2940}, 406: {130050, 314}, 407: {84944, 130520}, 408: {5433, 74685, 70159}, 409: {1278, 1009, 48738, 6790}, 410: {79702}, 411: {2054, 2012, 59315, 33493, 8636}, 412: {2186, 81132, 1271}, 413: {3081, 3572, 22, 2648, 31}, 414: {3113, 81132, 60069, 5065}, 415: {91529, 5882, 89745, 6350}, 416: {68954, 5690, 364, 61236}, 417: {1321, 3706, 3355, 2338}, 418: {594, 7099}, 419: {59501, 181}, 420: {4720, 3798}, 421: {57504, 60161, 69644}, 422: {170827, 2149, 79702, 1215}, 423: {87520, 87222, 106487}, 424: {1196, 1405, 4446}, 425: {2987, 69844}, 426: {43932, 29, 1215}, 427: {3448, 4321, 2338, 56782}, 428: {1282, 2541, 158830}, 429: {1278, 1083, 4789, 731}, 430: {5804, 64957, 1007}, 431: {2324, 70}, 432: {84944, 135456}, 433: {3978, 1995, 1717, 791, 1147}, 434: {4084, 3868}, 435: {594}, 436: {57504, 64993, 69644}, 437: {1408, 109673, 81132, 293}, 438: {81132, 3868, 79702}, 439: {165, 4008, 69481, 1321, 26875}, 440: {97752, 3788, 432, 159}, 441: {1464, 4874, 139644, 102903}, 442: {47610, 69844, 64957, 168090}, 443: {3798}, 444: {1580, 5156, 6662}, 445: {6333, 3703, 71205, 140711}, 446: {46850, 7932, 1189, 53894}, 447: {87520, 103228, 69526}, 448: {3355, 1269, 86295}, 449: {26776, 147196, 36477, 432}, 450: {2001, 5010, 1769, 68157}, 451: {6954, 1284, 54997, 2706}, 452: {46530, 52722, 6934}, 453: {91529}, 454: {1616, 122920, 2989}, 455: {1408, 1784}, 456: {6281, 3386, 56757, 2841}, 457: {51545, 161, 356, 6428}, 458: {3704, 147378, 98203, 41566}, 459: {1321, 2793, 79702, 70}, 460: {1730, 63082, 4239}, 461: {3868, 26701, 4238, 1223}, 462: {1464, 595, 79132, 7099}, 463: {3418, 58559}, 464: {1408}, 465: {1912, 6987, 5891}, 466: {3264, 3268, 70, 26413, 87}, 467: {2105, 1291, 60, 2414}, 468: {8360, 60069, 87222, 6711}, 469: {1544, 37830, 136864}, 470: {1464, 33794}, 471: {130050, 26887, 3081, 5065, 1464}, 472: {3681, 56174, 1269, 6934, 94777}, 473: {2944, 3977, 2890, 68157}, 474: {1064, 4299, 64957, 79702}, 475: {62956, 70, 6503}, 476: {153, 420, 3868, 165}, 477: {7099}, 478: {1064, 2657, 64957, 3081}, 479: {3681, 750}, 480: {2097, 72407}, 481: {85261, 87222, 62999}, 482: {71033, 2987}, 483: {84601, 3386, 51925}, 484: {1345, 4833, 2762, 1130, 3798}, 485: {84944, 2355, 1200}, 486: {1909}, 487: {106696, 94777, 969, 51662}, 488: {1464, 2065, 47610, 26887}, 489: {5882, 108090}, 490: {353, 935, 367, 8796, 2622}, 491: {7099, 2138, 7123, 2987}, 492: {26662, 2138, 314, 4902}, 493: {1464, 266, 81132}, 494: {150, 103253, 85342, 58559}, 495: {260, 110102}, 496: {135456, 77561}, 497: {84944, 91529}, 498: {858}, 499: {1025, 2090, 594, 2139, 2687}, 500: {3745, 2761, 60069}, 501: {2082, 1005}, 502: {2747, 2699, 3565, 3798}, 503: {1018, 32587, 3988}, 504: {2948, 7569, 53972, 165}, 505: {96448, 81132, 118572, 2587, 6428}, 506: {587, 4902}, 507: {27008, 750, 600, 53022, 98623}, 508: {688, 1562, 88140, 2701}, 509: {2097, 43932}, 510: {6378, 86892, 114246, 63}, 511: {1200, 442, 79132, 610}, 512: {37729, 81847}, 513: {27808, 6266, 48780, 1464}, 514: {2692, 33158, 6, 173, 5423}, 515: {2692, 80219, 43419}, 516: {1407}, 517: {2987, 364, 88125, 81132}, 518: {2657, 31804, 788, 6902}, 519: {358, 6856, 524, 3949, 1213}, 520: {106696, 37729}, 521: {1345, 5810, 150, 3735}, 522: {594, 364}, 523: {5065, 27317, 36533}, 524: {69644, 130518, 52462}, 525: {84944, 152081, 63859, 26183}, 526: {91529, 72998}, 527: {132422, 7046, 45732, 79702}, 528: {98243, 2989, 73854, 1031}, 529: {5377, 61236, 4446, 22}, 530: {1136, 3018, 142444}, 531: {91529, 1291}, 532: {432, 7033, 543}, 533: {432, 7099, 60069, 6350}, 534: {146024, 165}, 535: {5445, 26701, 1909}, 536: {60069}, 537: {1025, 1282}, 538: {84944, 1408, 2701}, 539: {87232, 8985, 164226, 2916}, 540: {69644, 165}, 541: {37729, 31658, 1265, 1464, 7099}, 542: {3113, 366, 85788, 2654}, 543: {2657, 37729, 708, 1064, 8044}, 544: {84944, 40339, 5478}, 545: {3745, 2085, 60069}, 546: {32587, 4502, 32632, 6874, 98623}, 547: {3264, 2657, 83349}, 548: {2722, 27692, 688, 51545, 6428}, 549: {5418}, 550: {165, 88140, 84944, 135569, 122904}, 551: {367, 7325, 3710, 6503}, 552: {2648, 2090, 81564, 22}, 553: {3210, 539, 71156, 81132}, 554: {6564, 1197, 79702}, 555: {3798}, 556: {148978, 6902, 29, 52462}, 557: {27904, 60069, 132046}, 558: {1562, 1278, 32022}, 559: {552, 2701, 53022}, 560: {587, 838}, 561: {1089, 4499, 1270, 8607}, 562: {59784, 91529, 46530}, 563: {160, 1711, 89745, 120827, 139644}, 564: {2324}, 565: {4720, 101088, 112421, 26887}, 566: {96004, 6709, 165}, 567: {2683, 2879}, 568: {51545, 4299, 3868}, 569: {2097, 6273, 314}, 570: {451, 8983, 1464, 71033, 88125}, 571: {3624, 5541, 70}, 572: {5882, 72998}, 573: {97752, 364, 106696}, 574: {4776, 115569, 5875, 27397}, 575: {27692, 750, 2001, 370, 3836}, 576: {432, 2657, 2097}, 577: {3370, 133419, 112556, 97304, 44191}, 578: {3868, 2879}, 579: {60074, 631}, 580: {32587, 6548}, 581: {112}, 582: {5378, 62999}, 583: {3696, 1917}, 584: {4498, 1380, 6, 2874}, 585: {1282, 2138}, 586: {1291, 165}, 587: {7304, 2857, 661, 3000}, 588: {106696, 37729, 79702}, 589: {648, 48780, 79132, 1967}, 590: {71462, 66097, 1073, 47610, 5820}, 591: {63433, 1196}, 592: {22}, 593: {6624, 1028, 2054, 5419, 410}, 594: {1464, 7099, 1029}, 595: {2338, 111659, 26662}, 596: {72737, 2011, 58404}, 597: {59784, 63859, 4103}, 598: {47}, 599: {50068, 55069, 1206}, 600: {89745, 52722, 72998, 106487}, 601: {77561, 1197}, 602: {551, 3113, 44555, 2097, 34162}, 603: {1464, 595, 79132}, 604: {146024, 1197}, 605: {368, 2724, 103253, 968}, 606: {923, 74727, 146028, 147286, 47099}, 607: {48, 594, 5971, 1029}, 608: {5882, 60069}, 609: {4386, 3238, 520, 90384, 4214}, 610: {552, 370, 380, 176101}},\n",
       "      dtype=object)"
      ]
     },
     "execution_count": 272,
     "metadata": {},
     "output_type": "execute_result"
    }
   ],
   "source": [
    "recommend_matrics = pickle.load(open('recommend_matrics.p', mode='rb'))\n",
    "recommend_matrics"
   ]
  },
  {
   "cell_type": "markdown",
   "metadata": {},
   "source": [
    "## Conclusion\n",
    "### 1. Demo\n",
    "* From Web"
   ]
  },
  {
   "cell_type": "markdown",
   "metadata": {},
   "source": [
    "### 2. NLP\n",
    "* Return some high frequency words for the movie comments\n",
    "* We use NLP methods in Python Language to excavate useful keywords. Like, if one client commented, \"I love this movie, because this movie is funny and astonishing.\" Then, we will know this movie have keyword \"funny\" and \"astonishing\""
   ]
  },
  {
   "cell_type": "markdown",
   "metadata": {},
   "source": [
    "### 3. Movie Recommend\n",
    "* We design a high efficient recommendation system based on dataset. For every client, we can generate recommended movie lists according to past rating histories\n",
    "* Two ways both return good recommendations\n",
    "* First way using Collaborative Filtering\n",
    "* Second way using Tensorflow Training"
   ]
  },
  {
   "cell_type": "markdown",
   "metadata": {},
   "source": [
    "## References\n",
    "### Dataset\n",
    "* [MovieLens](https://grouplens.org/datasets/movielens/) \n",
    "\n",
    "### Other\n",
    "* [Various Implementations of Collaborative Filtering](https://towardsdatascience.com/various-implementations-of-collaborative-filtering-100385c6dfe0)\n",
    "* [Tensorflow Training](http://wiki.jikexueyuan.com/project/tensorflow-zh/tutorials/mnist_tf.html)\n",
    "* [Tensorflow Offical](https://www.tensorflow.org/guide/low_level_intro)\n",
    "* [Convolutional Neural Networks](https://medium.com/machine-learning-world/convolutional-neural-networks-for-all-part-ii-b4cb41d424fd)\n",
    "* [Movie Recommendation](https://github.com/topics/movie-recommendation)\n",
    "* [Deep Learning for Recommendations](https://blog.csdn.net/jackmcgradylee/article/details/79129105)\n",
    "* [Machine Learning for Recommender systems](https://medium.com/recombee-blog/machine-learning-for-recommender-systems-part-1-algorithms-evaluation-and-cold-start-6f696683d0ed)\n",
    "* [Recommender Systems](http://www.ritchieng.com/machine-learning-recommender-systems/)"
   ]
  }
 ],
 "metadata": {
  "kernelspec": {
   "display_name": "Python 3",
   "language": "python",
   "name": "python3"
  },
  "language_info": {
   "codemirror_mode": {
    "name": "ipython",
    "version": 3
   },
   "file_extension": ".py",
   "mimetype": "text/x-python",
   "name": "python",
   "nbconvert_exporter": "python",
   "pygments_lexer": "ipython3",
   "version": "3.7.3"
  }
 },
 "nbformat": 4,
 "nbformat_minor": 2
}
